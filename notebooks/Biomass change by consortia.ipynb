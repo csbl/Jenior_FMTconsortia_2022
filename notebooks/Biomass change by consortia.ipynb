{
 "cells": [
  {
   "cell_type": "code",
   "execution_count": 13,
   "metadata": {},
   "outputs": [],
   "source": [
    "import cobra\n",
    "from cobra.medium import minimal_medium\n",
    "\n",
    "# Define minimal medium components\n",
    "def find_essential_metabolites(model, fraction=0.01):\n",
    "    min_growth = model.slim_optimize() * fraction\n",
    "    minOut = minimal_medium(model, min_objective_value=min_growth, minimize_components=True)\n",
    "    rxns = set(list(minOut.index))\n",
    "    return(rxns)\n",
    "\n",
    "iCdR703 = cobra.io.load_json_model('/home/mjenior/Desktop/Jenior_Consortia_2022/data/iCdR703.json')"
   ]
  },
  {
   "cell_type": "code",
   "execution_count": 7,
   "metadata": {},
   "outputs": [
    {
     "data": {
      "text/plain": [
       "159.665"
      ]
     },
     "execution_count": 7,
     "metadata": {},
     "output_type": "execute_result"
    }
   ],
   "source": [
    "# complete media\n",
    "for x in iCdR703.exchanges: x.bounds = (-1000.,1000.)\n",
    "round(iCdR703.slim_optimize(), 3)"
   ]
  },
  {
   "cell_type": "code",
   "execution_count": 9,
   "metadata": {},
   "outputs": [
    {
     "data": {
      "text/plain": [
       "125.621"
      ]
     },
     "execution_count": 9,
     "metadata": {},
     "output_type": "execute_result"
    }
   ],
   "source": [
    "# rich media\n",
    "rich_medium = ['EX_cpd00001_e', # water\n",
    "'EX_cpd00082_e', # D-fructose\n",
    "'EX_cpd00035_e', # alanine\n",
    "'EX_cpd00041_e', # aspartic acid\n",
    "'EX_cpd00023_e', # glutamic acid\n",
    "'EX_cpd00119_e', # histidine\n",
    "'EX_cpd00107_e', # leucine\n",
    "'EX_cpd00060_e', # methionine\n",
    "'EX_cpd00161_e', # threonine\n",
    "'EX_cpd00069_e', # tyrosine\n",
    "'EX_cpd00084_e', # cysteine\n",
    "'EX_cpd00033_e', # glycine\n",
    "'EX_cpd00322_e', # isoleucine\n",
    "'EX_cpd00066_e', # phenylalanine\n",
    "'EX_cpd00054_e', # serine\n",
    "'EX_cpd00065_e', # tryptophan\n",
    "'EX_cpd00156_e', # valine\n",
    "'EX_cpd00220_e', # riboflavin\n",
    "'EX_cpd00644_e', # pantothentate(B5)\n",
    "'EX_cpd00393_e', # folate(B9)\n",
    "'EX_cpd00133_e', # niacin(PP)\n",
    "'EX_cpd00263_e', # Pyridoxine\n",
    "'EX_cpd00104_e', # Biotin\n",
    "'EX_cpd00149_e', # Cobalt\n",
    "'EX_cpd00971_e', # sodium\n",
    "'EX_cpd00099_e', # Chloride\n",
    "'EX_cpd00205_e', # potassium\n",
    "'EX_cpd00009_e', # phosphate\n",
    "'EX_cpd00063_e', # calcium\n",
    "'EX_cpd00254_e', # magnesium\n",
    "'EX_cpd10515_e', # Fe2+\n",
    "'EX_cpd00030_e', # Mn2+\n",
    "'EX_cpd00242_e', # Carbonate\n",
    "'EX_cpd00226_e', # hypoxanthine\n",
    "'EX_cpd01242_e', # thyminose\n",
    "'EX_cpd00307_e', # cytosine\n",
    "'EX_cpd00092_e', # uracil\n",
    "'EX_cpd00117_e', # D-Alanine\n",
    "'EX_cpd00067_e', # H+\n",
    "'EX_cpd00567_e', # D-Proline\n",
    "'EX_cpd00132_e', # L-Asparagine\n",
    "'EX_cpd00210_e', # Taurine\n",
    "'EX_cpd00320_e', # D-Aspartate\n",
    "'EX_cpd03279_e', # Deoxyinosine\n",
    "'EX_cpd00246_e', # Inosine\n",
    "'EX_cpd00311_e', # Guanosine\n",
    "'EX_cpd00367_e', # Cytidine\n",
    "'EX_cpd00277_e', # Deoxyguanosine\n",
    "'EX_cpd00182_e', # Adenosine\n",
    "'EX_cpd00654_e', # Deoxycytidine\n",
    "'EX_cpd00412_e', # Deoxyuridine\n",
    "'EX_cpd00438_e', # Deoxyadenosine\n",
    "'EX_cpd00274_e', # Citrulline\n",
    "'EX_cpd00186_e', # D-Glutamate\n",
    "'EX_cpd00637_e', # D-Methionine\n",
    "'EX_cpd00105_e', # D-Ribose\n",
    "'EX_cpd00305_e', # Thiamin\n",
    "'EX_cpd00309_e', # Xanthine\n",
    "'EX_cpd00098_e', # Choline\n",
    "'EX_cpd00053_e', # L-Glutamine\n",
    "'EX_cpd00039_e', # Lysine\n",
    "'EX_cpd00064_e', # Ornithine\n",
    "'EX_cpd00051_e', # D-arginine\n",
    "'EX_cpd00207_e'] # Guanine\n",
    "\n",
    "for x in iCdR703.exchanges: \n",
    "    if x.id in rich_medium:\n",
    "        x.bounds = (-1000.,1000.)\n",
    "    else:\n",
    "        x.bounds = (0.,1000.)\n",
    "\n",
    "round(iCdR703.slim_optimize(), 3)"
   ]
  },
  {
   "cell_type": "code",
   "execution_count": 17,
   "metadata": {},
   "outputs": [
    {
     "data": {
      "text/plain": [
       "41.92"
      ]
     },
     "execution_count": 17,
     "metadata": {},
     "output_type": "execute_result"
    }
   ],
   "source": [
    "# minimal_media\n",
    "minimal_media = find_essential_metabolites(iCdR703)\n",
    "\n",
    "for x in iCdR703.exchanges: \n",
    "    if x.id in minimal_media:\n",
    "        x.bounds = (-1000.,1000.)\n",
    "    else:\n",
    "        x.bounds = (0.,1000.)\n",
    "\n",
    "round(iCdR703.slim_optimize(), 3)"
   ]
  },
  {
   "cell_type": "code",
   "execution_count": 27,
   "metadata": {},
   "outputs": [
    {
     "data": {
      "text/plain": [
       "110.119"
      ]
     },
     "execution_count": 27,
     "metadata": {},
     "output_type": "execute_result"
    }
   ],
   "source": [
    "# cooperative\n",
    "cooperative_media = set([\"EX_cpd00056_e\",\"EX_cpd01311_e\",\"EX_cpd00776_e\",\"EX_cpd00030_e\",\"EX_cpd00971_e\",\"EX_cpd00063_e\",\"EX_cpd00149_e\",\"EX_cpd00254_e\",\"EX_cpd00205_e\",\"EX_cpd10515_e\",\"EX_cpd29698_e\",\"EX_cpd11590_e\",\"EX_cpd00305_e\",\"EX_cpd15605_e\",\"EX_cpd00644_e\",\"EX_cpd29697_e\",\"EX_cpd00104_e\",\"EX_cpd00367_e\",\"EX_cpd00393_e\",\"EX_cpd00099_e\",\"EX_cpd15603_e\",\"EX_cpd15606_e\",\"EX_cpd00072_e\",\"EX_cpd01080_e\",\"EX_cpd00654_e\",\"EX_cpd29696_e\",\"EX_cpd00263_e\",\"EX_cpd00041_e\",\"EX_cpd00023_e\",\"EX_cpd00129_e\",\"EX_cpd00007_e\",\"EX_cpd00009_e\",\"EX_cpd00122_e\",\"EX_cpd00220_e\",\"EX_cpd00307_e\",\"EX_cpd00092_e\",\"EX_cpd01711_e\",\"EX_cpd03343_e\",\"EX_cpd00029_e\",\"EX_cpd00089_e\",\"EX_cpd00106_e\",\"EX_cpd00152_e\",\"EX_cpd00053_e\",\"EX_cpd02711_e\",\"EX_cpd05178_e\",\"EX_cpd00079_e\",\"EX_cpd00047_e\",\"EX_cpd00060_e\",\"EX_cpd00794_e\",\"EX_C21399_e\",\"EX_cpd00136_e\",\"EX_cpd00412_e\",\"EX_cpd00033_e\",\"EX_cpd02090_e\",\"EX_cpd17005_e\",\"EX_cpd10516_e\",\"EX_cpd00982_e\",\"EX_cpd12815_e\",\"EX_cpd14514_e\",\"EX_cpd15240_e\",\"EX_cpd17028_e\",\"EX_cpd01414_e\",\"EX_cpd00081_e\",\"EX_cpd00069_e\",\"EX_cpd00572_e\",\"EX_cpd19585_e\",\"EX_cpd00339_e\",\"EX_cpd00165_e\",\"EX_cpd00141_e\",\"EX_cpd00064_e\",\"EX_cpd00085_e\",\"EX_cpd00123_e\",\"EX_cpd15386_e\",\"EX_cpd00508_e\",\"EX_cpd00075_e\",\"EX_cpd00281_e\",\"EX_cpd00027_e\",\"EX_cpd00011_e\",\"EX_cpd00211_e\"])\n",
    "cooperative_media |= minimal_media\n",
    "\n",
    "\n",
    "for x in iCdR703.exchanges: \n",
    "    if x.id in cooperative_media:\n",
    "        x.bounds = (-1000.,1000.)\n",
    "    else:\n",
    "        x.bounds = (0.,1000.)\n",
    "\n",
    "round(iCdR703.slim_optimize(), 3)"
   ]
  },
  {
   "cell_type": "code",
   "execution_count": 28,
   "metadata": {},
   "outputs": [
    {
     "data": {
      "text/plain": [
       "90.782"
      ]
     },
     "execution_count": 28,
     "metadata": {},
     "output_type": "execute_result"
    }
   ],
   "source": [
    "# competitive\n",
    "competitive_media = set([\"EX_cpd10515_e\",\"EX_cpd00056_e\",\"EX_cpd01311_e\",\"EX_cpd00971_e\",\"EX_cpd00099_e\",\"EX_cpd00030_e\",\"EX_cpd00063_e\",\"EX_cpd17005_e\",\"EX_cpd00254_e\",\"EX_cpd00205_e\",\"EX_cpd29698_e\",\"EX_cpd11590_e\",\"EX_cpd00305_e\",\"EX_cpd15605_e\",\"EX_cpd00644_e\",\"EX_cpd29697_e\",\"EX_cpd00104_e\",\"EX_cpd00367_e\",\"EX_cpd00393_e\",\"EX_cpd15603_e\",\"EX_cpd15606_e\",\"EX_cpd00072_e\",\"EX_cpd01080_e\",\"EX_cpd00149_e\",\"EX_cpd00654_e\",\"EX_cpd29696_e\",\"EX_cpd00263_e\",\"EX_cpd00075_e\",\"EX_cpd00009_e\",\"EX_cpd00235_e\",\"EX_cpd00007_e\",\"EX_cpd00041_e\",\"EX_cpd00053_e\",\"EX_cpd00023_e\",\"EX_cpd00060_e\",\"EX_cpd00129_e\",\"EX_cpd00069_e\",\"EX_cpd00122_e\",\"EX_cpd00220_e\",\"EX_cpd00307_e\",\"EX_cpd00092_e\",\"EX_cpd01711_e\",\"EX_cpd03343_e\",\"EX_cpd00029_e\",\"EX_cpd00089_e\",\"EX_cpd00106_e\",\"EX_cpd00152_e\",\"EX_cpd00033_e\",\"EX_cpd00794_e\",\"EX_cpd19585_e\",\"EX_cpd00339_e\",\"EX_cpd02711_e\",\"EX_cpd00047_e\",\"EX_cpd00165_e\",\"EX_cpd05178_e\",\"EX_C21399_e\",\"EX_cpd00211_e\",\"EX_cpd00982_e\",\"EX_cpd02210_e\",\"EX_cpd00079_e\",\"EX_cpd00027_e\",\"EX_cpd00438_e\",\"EX_cpd00011_e\",\"EX_cpd00141_e\",\"EX_cpd00345_e\",\"EX_cpd00776_e\",\"EX_cpd02090_e\",\"EX_cpd37231_e\",\"EX_cpd00032_e\",\"EX_cpd00081_e\",\"EX_cpd15386_e\",\"EX_cpd15497_e\",\"EX_cpd00508_e\",\"EX_cpd15240_e\",\"EX_cpd01646_e\",\"EX_cpd00572_e\",\"EX_cpd00136_e\",\"EX_cpd00207_e\"])\n",
    "competitive_media |= minimal_media\n",
    "\n",
    "for x in iCdR703.exchanges: \n",
    "    if x.id in competitive_media:\n",
    "        x.bounds = (-1000.,1000.)\n",
    "    else:\n",
    "        x.bounds = (0.,1000.)\n",
    "\n",
    "\n",
    "round(iCdR703.slim_optimize(), 3)"
   ]
  },
  {
   "cell_type": "code",
   "execution_count": null,
   "metadata": {},
   "outputs": [],
   "source": []
  },
  {
   "cell_type": "code",
   "execution_count": null,
   "metadata": {},
   "outputs": [],
   "source": []
  }
 ],
 "metadata": {
  "kernelspec": {
   "display_name": "Python 3",
   "language": "python",
   "name": "python3"
  },
  "language_info": {
   "codemirror_mode": {
    "name": "ipython",
    "version": 3
   },
   "file_extension": ".py",
   "mimetype": "text/x-python",
   "name": "python",
   "nbconvert_exporter": "python",
   "pygments_lexer": "ipython3",
   "version": "3.7.5"
  }
 },
 "nbformat": 4,
 "nbformat_minor": 2
}
