{
 "cells": [
  {
   "cell_type": "code",
   "execution_count": 1,
   "metadata": {},
   "outputs": [],
   "source": [
    "from ecology import *"
   ]
  },
  {
   "cell_type": "code",
   "execution_count": 5,
   "metadata": {},
   "outputs": [],
   "source": [
    "iCdR703 = cobra.io.load_json_model('/home/matt/Desktop/repos/Jenior_CdifficileGENRE_2021/data/reconstructions/iCdR703.json')\n",
    "mag_genre_dir = '/home/matt/Desktop/FMT_large_files/MAG_blast_results/reconstructions/final_genres/'"
   ]
  },
  {
   "cell_type": "markdown",
   "metadata": {},
   "source": [
    "## Competition"
   ]
  },
  {
   "cell_type": "markdown",
   "metadata": {},
   "source": [
    "### Super donor-associated"
   ]
  },
  {
   "cell_type": "code",
   "execution_count": 6,
   "metadata": {},
   "outputs": [],
   "source": [
    "# MAGs\n",
    "Erectale = cobra.io.read_sbml_model(mag_genre_dir + 'super/' + 'iEr748.sbml')\n",
    "#Afinegoldii = cobra.io.read_sbml_model(mag_genre_dir + 'super/' + 'iAf996.sbml')\n",
    "#PspCT06 = cobra.io.read_sbml_model(mag_genre_dir + 'super/' + 'iPs651.sbml')\n",
    "#Bvulgatus = cobra.io.read_sbml_model(mag_genre_dir + 'super/' + 'iBv935.sbml')\n",
    "#Ahadrus = cobra.io.read_sbml_model(mag_genre_dir + 'super/' + 'iAh540.sbml')\n",
    "#Fprausnitzii = cobra.io.read_sbml_model(mag_genre_dir + 'super/' + 'iFp1069.sbml')\n",
    "#CspART55 = cobra.io.read_sbml_model(mag_genre_dir + 'super/' + 'iCs454.sbml')\n",
    "#Bdorei = cobra.io.read_sbml_model(mag_genre_dir + 'super/' + 'iBd370.sbml')\n",
    "Bpseudocatenulatum = cobra.io.read_sbml_model(mag_genre_dir + 'super/' + 'iBp118.sbml')\n",
    "#Osplanchnicus = cobra.io.read_sbml_model(mag_genre_dir + 'super/' + 'iOs707.sbml')\n",
    "#Eeligens = cobra.io.read_sbml_model(mag_genre_dir + 'super/' + 'iEe1329.sbml')\n",
    "#Pdistasonis = cobra.io.read_sbml_model(mag_genre_dir + 'super/' + 'iPd555.sbml')\n",
    "#Dpiger = cobra.io.read_sbml_model(mag_genre_dir + 'super/' + 'iDp397.sbml')\n",
    "\n",
    "# KEGG genes\n",
    "Bproducta = cobra.io.read_sbml_model(mag_genre_dir + 'super/' + 'iBp829.sbml')\n",
    "#Csporogenes = cobra.io.read_sbml_model(mag_genre_dir + 'super/' + 'iCs577.sbml')"
   ]
  },
  {
   "cell_type": "code",
   "execution_count": 7,
   "metadata": {},
   "outputs": [
    {
     "name": "stdout",
     "output_type": "stream",
     "text": [
      "Starting flux Eubacterium rectale: 453.64 Clostridium difficile R20291: 159.67\n",
      "Iteration 1 | 3 contested metabolites | Eubacterium rectale: 431.82 Clostridium difficile R20291: 159.67\n",
      "Iteration 2 | 3 contested metabolites | Eubacterium rectale: 424.19 Clostridium difficile R20291: 159.67\n",
      "Iteration 3 | 3 contested metabolites | Eubacterium rectale: 423.13 Clostridium difficile R20291: 159.67\n",
      "Iteration 4 | 5 contested metabolites | Eubacterium rectale: 420.98 Clostridium difficile R20291: 125.0\n",
      "Iteration 5 | 4 contested metabolites | Eubacterium rectale: 420.93 Clostridium difficile R20291: 0.0\n",
      "Clostridium difficile R20291 can no longer generate biomass\n"
     ]
    }
   ],
   "source": [
    "Erectale_CdR20291_competition = competition(Erectale, iCdR703)"
   ]
  },
  {
   "cell_type": "code",
   "execution_count": 14,
   "metadata": {},
   "outputs": [
    {
     "name": "stdout",
     "output_type": "stream",
     "text": [
      "Starting flux Bifidobacterium pseudocatenulatum: 947.96 Clostridium difficile R20291: 159.67\n",
      "Iteration 1 | 12 contested metabolites | Bifidobacterium pseudocatenulatum: 945.51 Clostridium difficile R20291: 149.49\n",
      "Iteration 2 | 11 contested metabolites | Bifidobacterium pseudocatenulatum: 944.27 Clostridium difficile R20291: 144.25\n",
      "Iteration 3 | 10 contested metabolites | Bifidobacterium pseudocatenulatum: 942.63 Clostridium difficile R20291: 0.0\n",
      "Clostridium difficile R20291 can no longer generate biomass\n"
     ]
    }
   ],
   "source": [
    "Bpseudocatenulatum_CdR20291_competition = competition(Bpseudocatenulatum, iCdR703)"
   ]
  },
  {
   "cell_type": "code",
   "execution_count": 4,
   "metadata": {},
   "outputs": [
    {
     "name": "stdout",
     "output_type": "stream",
     "text": [
      "Starting flux Blautia producta: 446.25 Clostridium difficile R20291: 159.67\n",
      "Iteration 1 | 11 contested metabolites | Blautia producta: 430.17 Clostridium difficile R20291: 149.49\n",
      "Iteration 2 | 12 contested metabolites | Blautia producta: 421.39 Clostridium difficile R20291: 147.87\n",
      "Iteration 3 | 10 contested metabolites | Blautia producta: 418.93 Clostridium difficile R20291: 0.0\n",
      "Clostridium difficile R20291 can no longer generate biomass\n"
     ]
    }
   ],
   "source": [
    "Bproducta_CdR20291_competition = competition(Bproducta, iCdR703)"
   ]
  },
  {
   "cell_type": "code",
   "execution_count": 14,
   "metadata": {},
   "outputs": [
    {
     "name": "stdout",
     "output_type": "stream",
     "text": [
      "Initial growth: Eubacterium rectale = 380.57 | Clostridium difficile R20291 = 69.45\n",
      "Current growth: Eubacterium rectale = 380.57 | Clostridium difficile R20291 = 87.92\n",
      "Current growth: Eubacterium rectale = 453.64 | Clostridium difficile R20291 = 93.46\n",
      "Current growth: Eubacterium rectale = 453.64 | Clostridium difficile R20291 = 93.57\n",
      "Current growth: Eubacterium rectale = 453.64 | Clostridium difficile R20291 = 95.87\n",
      "A total of 41 new metabolites added to media\n",
      "\t 20 metabolites passed from Eubacterium rectale to Clostridium difficile R20291\n",
      "\t 11 metabolites passed from Clostridium difficile R20291 to Eubacterium rectale\n",
      "Optimal Eubacterium rectale objective flux increased by 73.07\n",
      "Optimal Clostridium difficile R20291 objective flux increased by 26.46\n"
     ]
    }
   ],
   "source": [
    "Erectale_CdR20291_mutualism = mutualism(Erectale, iCdR703)"
   ]
  },
  {
   "cell_type": "code",
   "execution_count": 15,
   "metadata": {},
   "outputs": [
    {
     "name": "stdout",
     "output_type": "stream",
     "text": [
      "Initial growth: Bifidobacterium pseudocatenulatum = 919.88 | Clostridium difficile R20291 = 69.45\n",
      "Current growth: Bifidobacterium pseudocatenulatum = 919.88 | Clostridium difficile R20291 = 81.31\n",
      "Current growth: Bifidobacterium pseudocatenulatum = 947.96 | Clostridium difficile R20291 = 82.95\n",
      "Current growth: Bifidobacterium pseudocatenulatum = 947.96 | Clostridium difficile R20291 = 83.32\n",
      "Current growth: Bifidobacterium pseudocatenulatum = 947.96 | Clostridium difficile R20291 = 83.32\n",
      "A total of 42 new metabolites added to media\n",
      "\t 20 metabolites passed from Bifidobacterium pseudocatenulatum to Clostridium difficile R20291\n",
      "\t 7 metabolites passed from Clostridium difficile R20291 to Bifidobacterium pseudocatenulatum\n",
      "Optimal Bifidobacterium pseudocatenulatum objective flux increased by 28.08\n",
      "Optimal Clostridium difficile R20291 objective flux increased by 14.59\n"
     ]
    }
   ],
   "source": [
    "Bpseudocatenulatum_CdR20291_mutualism = mutualism(Bpseudocatenulatum, iCdR703)"
   ]
  },
  {
   "cell_type": "code",
   "execution_count": 16,
   "metadata": {},
   "outputs": [
    {
     "name": "stdout",
     "output_type": "stream",
     "text": [
      "Initial growth: Blautia producta = 409.12 | Clostridium difficile R20291 = 69.45\n",
      "Current growth: Blautia producta = 409.12 | Clostridium difficile R20291 = 87.13\n",
      "Current growth: Blautia producta = 446.25 | Clostridium difficile R20291 = 89.37\n",
      "Current growth: Blautia producta = 446.25 | Clostridium difficile R20291 = 90.21\n",
      "Current growth: Blautia producta = 446.25 | Clostridium difficile R20291 = 90.21\n",
      "Current growth: Blautia producta = 446.25 | Clostridium difficile R20291 = 91.76\n",
      "A total of 37 new metabolites added to media\n",
      "\t 17 metabolites passed from Blautia producta to Clostridium difficile R20291\n",
      "\t 13 metabolites passed from Clostridium difficile R20291 to Blautia producta\n",
      "Optimal Blautia producta objective flux increased by 37.13\n",
      "Optimal Clostridium difficile R20291 objective flux increased by 22.31\n"
     ]
    }
   ],
   "source": [
    "Bproducta_CdR20291_mutualism = mutualism(Bproducta, iCdR703)"
   ]
  },
  {
   "cell_type": "code",
   "execution_count": null,
   "metadata": {},
   "outputs": [],
   "source": []
  },
  {
   "cell_type": "code",
   "execution_count": null,
   "metadata": {},
   "outputs": [],
   "source": []
  },
  {
   "cell_type": "code",
   "execution_count": 8,
   "metadata": {},
   "outputs": [
    {
     "name": "stdout",
     "output_type": "stream",
     "text": [
      "Starting flux Eubacterium rectale: 453.64 Bifidobacterium pseudocatenulatum: 947.96\n",
      "Iteration 1 | 7 contested metabolites | Eubacterium rectale: 412.93 Bifidobacterium pseudocatenulatum: 946.48\n",
      "Iteration 2 | 7 contested metabolites | Eubacterium rectale: 404.47 Bifidobacterium pseudocatenulatum: 933.5\n",
      "Iteration 3 | 6 contested metabolites | Eubacterium rectale: 400.06 Bifidobacterium pseudocatenulatum: 932.96\n",
      "Iteration 4 | 7 contested metabolites | Eubacterium rectale: 392.84 Bifidobacterium pseudocatenulatum: 932.86\n",
      "Iteration 5 | 5 contested metabolites | Eubacterium rectale: 392.5 Bifidobacterium pseudocatenulatum: 932.82\n",
      "Ending search after 5 iterations\n"
     ]
    }
   ],
   "source": [
    "Erectale_Bpseudocatenulatum_competition = competition(Erectale, Bpseudocatenulatum)"
   ]
  },
  {
   "cell_type": "code",
   "execution_count": 9,
   "metadata": {},
   "outputs": [
    {
     "name": "stdout",
     "output_type": "stream",
     "text": [
      "Starting flux Eubacterium rectale: 453.64 Blautia producta: 446.25\n",
      "Iteration 1 | 3 contested metabolites | Eubacterium rectale: 431.82 Blautia producta: 444.35\n",
      "Iteration 2 | 4 contested metabolites | Eubacterium rectale: 424.19 Blautia producta: 440.41\n",
      "Iteration 3 | 3 contested metabolites | Eubacterium rectale: 422.27 Blautia producta: 436.07\n",
      "Iteration 4 | 4 contested metabolites | Eubacterium rectale: 420.58 Blautia producta: 435.01\n",
      "Iteration 5 | 7 contested metabolites | Eubacterium rectale: 418.98 Blautia producta: 430.92\n",
      "Ending search after 5 iterations\n"
     ]
    }
   ],
   "source": [
    "Erectale_Bproducta_competition = competition(Erectale, Bproducta)"
   ]
  },
  {
   "cell_type": "code",
   "execution_count": 10,
   "metadata": {},
   "outputs": [
    {
     "name": "stdout",
     "output_type": "stream",
     "text": [
      "Starting flux Blautia producta: 446.25 Bifidobacterium pseudocatenulatum: 947.96\n",
      "Iteration 1 | 14 contested metabolites | Blautia producta: 429.49 Bifidobacterium pseudocatenulatum: 945.02\n",
      "Iteration 2 | 13 contested metabolites | Blautia producta: 421.93 Bifidobacterium pseudocatenulatum: 943.97\n",
      "Iteration 3 | 10 contested metabolites | Blautia producta: 420.02 Bifidobacterium pseudocatenulatum: 942.81\n",
      "Iteration 4 | 11 contested metabolites | Blautia producta: 419.72 Bifidobacterium pseudocatenulatum: 941.18\n",
      "Iteration 5 | 9 contested metabolites | Blautia producta: 419.61 Bifidobacterium pseudocatenulatum: 941.11\n",
      "Ending search after 5 iterations\n"
     ]
    }
   ],
   "source": [
    "Bproducta_Bpseudocatenulatum_competition = competition(Bproducta, Bpseudocatenulatum)"
   ]
  },
  {
   "cell_type": "code",
   "execution_count": 11,
   "metadata": {},
   "outputs": [
    {
     "name": "stdout",
     "output_type": "stream",
     "text": [
      "Initial growth: Eubacterium rectale = 380.57 | Bifidobacterium pseudocatenulatum = 919.88\n",
      "Current growth: Eubacterium rectale = 408.67 | Bifidobacterium pseudocatenulatum = 925.71\n",
      "Current growth: Eubacterium rectale = 422.4 | Bifidobacterium pseudocatenulatum = 945.2\n",
      "A total of 34 new metabolites added to media\n",
      "\t 22 metabolites passed from Eubacterium rectale to Bifidobacterium pseudocatenulatum\n",
      "\t 8 metabolites passed from Bifidobacterium pseudocatenulatum to Eubacterium rectale\n",
      "Optimal Eubacterium rectale objective flux increased by 41.83\n",
      "Optimal Bifidobacterium pseudocatenulatum objective flux increased by 28.08\n"
     ]
    }
   ],
   "source": [
    "Erectale_Bpseudocatenulatum_mutualism = mutualism(Erectale, Bpseudocatenulatum)"
   ]
  },
  {
   "cell_type": "code",
   "execution_count": 12,
   "metadata": {},
   "outputs": [
    {
     "name": "stdout",
     "output_type": "stream",
     "text": [
      "Initial growth: Eubacterium rectale = 380.57 | Blautia producta = 409.12\n",
      "Current growth: Eubacterium rectale = 394.88 | Blautia producta = 421.27\n",
      "Current growth: Eubacterium rectale = 400.25 | Blautia producta = 424.21\n",
      "A total of 25 new metabolites added to media\n",
      "\t 21 metabolites passed from Eubacterium rectale to Blautia producta\n",
      "\t 4 metabolites passed from Blautia producta to Eubacterium rectale\n",
      "Optimal Eubacterium rectale objective flux increased by 19.68\n",
      "Optimal Blautia producta objective flux increased by 15.09\n"
     ]
    }
   ],
   "source": [
    "Erectale_Bproducta_mutualism = mutualism(Erectale, Bproducta)"
   ]
  },
  {
   "cell_type": "code",
   "execution_count": 13,
   "metadata": {},
   "outputs": [
    {
     "name": "stdout",
     "output_type": "stream",
     "text": [
      "Initial growth: Blautia producta = 409.12 | Bifidobacterium pseudocatenulatum = 919.88\n",
      "Current growth: Blautia producta = 412.76 | Bifidobacterium pseudocatenulatum = 932.86\n",
      "Current growth: Blautia producta = 425.35 | Bifidobacterium pseudocatenulatum = 941.3\n",
      "A total of 33 new metabolites added to media\n",
      "\t 17 metabolites passed from Blautia producta to Bifidobacterium pseudocatenulatum\n",
      "\t 13 metabolites passed from Bifidobacterium pseudocatenulatum to Blautia producta\n",
      "Optimal Blautia producta objective flux increased by 17.52\n",
      "Optimal Bifidobacterium pseudocatenulatum objective flux increased by 21.43\n"
     ]
    }
   ],
   "source": [
    "Bproducta_Bpseudocatenulatum_mutualism = mutualism(Bproducta, Bpseudocatenulatum)"
   ]
  },
  {
   "cell_type": "code",
   "execution_count": null,
   "metadata": {},
   "outputs": [],
   "source": []
  },
  {
   "cell_type": "code",
   "execution_count": null,
   "metadata": {},
   "outputs": [],
   "source": []
  },
  {
   "cell_type": "code",
   "execution_count": null,
   "metadata": {},
   "outputs": [],
   "source": []
  },
  {
   "cell_type": "code",
   "execution_count": null,
   "metadata": {},
   "outputs": [],
   "source": []
  },
  {
   "cell_type": "code",
   "execution_count": null,
   "metadata": {},
   "outputs": [],
   "source": []
  },
  {
   "cell_type": "code",
   "execution_count": null,
   "metadata": {},
   "outputs": [],
   "source": []
  },
  {
   "cell_type": "code",
   "execution_count": 32,
   "metadata": {},
   "outputs": [],
   "source": [
    "Erectale_CdR20291_competition.to_csv(mag_genre_dir + 'super/' + 'Erectale_CdR20291_competition.tsv', sep='\\t')\n",
    "Afinegoldii_CdR20291_competition.to_csv(mag_genre_dir + 'super/' + 'Afinegoldii_CdR20291_competition.tsv', sep='\\t')\n",
    "PspCT06_CdR20291_competition.to_csv(mag_genre_dir + 'super/' + 'PspCT06_CdR20291_competition.tsv', sep='\\t')\n",
    "Bvulgatus_CdR20291_competition.to_csv(mag_genre_dir + 'super/' + 'Bvulgatus_CdR20291_competition.tsv', sep='\\t')\n",
    "Ahadrus_CdR20291_competition.to_csv(mag_genre_dir + 'super/' + 'Ahadrus_CdR20291_competition.tsv', sep='\\t')\n",
    "Fprausnitzii_CdR20291_competition.to_csv(mag_genre_dir + 'super/' + 'Fprausnitzii_CdR20291_competition.tsv', sep='\\t')\n",
    "CspART55_CdR20291_competition.to_csv(mag_genre_dir + 'super/' + 'CspART55_CdR20291_competition.tsv', sep='\\t')\n",
    "Bdorei_CdR20291_competition.to_csv(mag_genre_dir + 'super/' + 'Bdorei_CdR20291_competition.tsv', sep='\\t')\n",
    "Bpseudocatenulatum_CdR20291_competition.to_csv(mag_genre_dir + 'super/' + 'Bpseudocatenulatum_CdR20291_competition.tsv', sep='\\t')\n",
    "Osplanchnicus_CdR20291_competition.to_csv(mag_genre_dir + 'super/' + 'Osplanchnicus_CdR20291_competition.tsv', sep='\\t')\n",
    "Eeligens_CdR20291_competition.to_csv(mag_genre_dir + 'super/' + 'Eeligens_CdR20291_competition.tsv', sep='\\t')\n",
    "Pdistasonis_CdR20291_competition.to_csv(mag_genre_dir + 'super/' + 'Pdistasonis_CdR20291_competition.tsv', sep='\\t')\n",
    "Dpiger_CdR20291_competition.to_csv(mag_genre_dir + 'super/' + 'Dpiger_CdR20291_competition.tsv', sep='\\t')\n",
    "Bproducta_CdR20291_competition.to_csv(mag_genre_dir + 'super/' + 'Bproducta_CdR20291_competition.tsv', sep='\\t')\n",
    "Csporogenes_CdR20291_competition.to_csv(mag_genre_dir + 'super/' + 'Csporogenes_CdR20291_competition.tsv', sep='\\t')"
   ]
  },
  {
   "cell_type": "markdown",
   "metadata": {},
   "source": [
    "### Normal donor-associated"
   ]
  },
  {
   "cell_type": "code",
   "execution_count": 21,
   "metadata": {},
   "outputs": [],
   "source": [
    "# MAGs\n",
    "Rintestinalis = cobra.io.read_sbml_model(mag_genre_dir + 'normal/' + 'iRi453.sbml')\n",
    "Blongum = cobra.io.read_sbml_model(mag_genre_dir + 'normal/' + 'iBl287.sbml')\n",
    "Amuciniphila = cobra.io.read_sbml_model(mag_genre_dir + 'normal/' + 'iAm458.sbml')\n",
    "Bcaccae = cobra.io.read_sbml_model(mag_genre_dir + 'normal/' + 'iBc784.sbml')\n",
    "Bovatus = cobra.io.read_sbml_model(mag_genre_dir + 'normal/' + 'iBo679.sbml')\n",
    "Oscillospiraceae = cobra.io.read_sbml_model(mag_genre_dir + 'normal/' + 'iOb1228.sbml')\n",
    "Ashahii = cobra.io.read_sbml_model(mag_genre_dir + 'normal/' + 'iAs395.sbml')\n",
    "\n",
    "# KEGG genes\n",
    "Btheta = cobra.io.read_sbml_model(mag_genre_dir + 'normal/' + 'iBt636.sbml')"
   ]
  },
  {
   "cell_type": "code",
   "execution_count": 22,
   "metadata": {},
   "outputs": [
    {
     "name": "stdout",
     "output_type": "stream",
     "text": [
      "Starting flux Roseburia intestinalis: 970.35 Clostridium difficile R20291: 159.67\n",
      "Iteration 1 | 11 contested metabolites | Roseburia intestinalis: 901.63 Clostridium difficile R20291: 149.49\n",
      "Iteration 2 | 8 contested metabolites | Roseburia intestinalis: 874.94 Clostridium difficile R20291: 149.49\n",
      "Iteration 3 | 7 contested metabolites | Roseburia intestinalis: 869.33 Clostridium difficile R20291: 0.0\n",
      "Clostridium difficile R20291 can no longer generate biomass\n"
     ]
    }
   ],
   "source": [
    "Rintestinalis_CdR20291_competition = competition(Rintestinalis, iCdR703)"
   ]
  },
  {
   "cell_type": "code",
   "execution_count": 23,
   "metadata": {},
   "outputs": [
    {
     "name": "stdout",
     "output_type": "stream",
     "text": [
      "Starting flux Bifidobacterium longum: 1000.0 Clostridium difficile R20291: 159.67\n",
      "Iteration 1 | 12 contested metabolites | Bifidobacterium longum: 968.63 Clostridium difficile R20291: 149.49\n",
      "Iteration 2 | 11 contested metabolites | Bifidobacterium longum: 958.37 Clostridium difficile R20291: 144.25\n",
      "Iteration 3 | 11 contested metabolites | Bifidobacterium longum: 955.56 Clostridium difficile R20291: 0.0\n",
      "Clostridium difficile R20291 can no longer generate biomass\n"
     ]
    }
   ],
   "source": [
    "Blongum_CdR20291_competition = competition(Blongum, iCdR703)"
   ]
  },
  {
   "cell_type": "code",
   "execution_count": 24,
   "metadata": {},
   "outputs": [
    {
     "name": "stdout",
     "output_type": "stream",
     "text": [
      "Starting flux Akkermansia muciniphila: 899.8 Clostridium difficile R20291: 159.67\n",
      "Iteration 1 | 10 contested metabolites | Akkermansia muciniphila: 777.29 Clostridium difficile R20291: 149.49\n",
      "Iteration 2 | 11 contested metabolites | Akkermansia muciniphila: 740.93 Clostridium difficile R20291: 145.63\n",
      "Iteration 3 | 7 contested metabolites | Akkermansia muciniphila: 732.12 Clostridium difficile R20291: 145.63\n",
      "Iteration 4 | 5 contested metabolites | Akkermansia muciniphila: 730.78 Clostridium difficile R20291: 125.0\n",
      "Iteration 5 | 5 contested metabolites | Akkermansia muciniphila: 730.51 Clostridium difficile R20291: 0.0\n",
      "Clostridium difficile R20291 can no longer generate biomass\n"
     ]
    }
   ],
   "source": [
    "Amuciniphila_CdR20291_competition = competition(Amuciniphila, iCdR703)"
   ]
  },
  {
   "cell_type": "code",
   "execution_count": 25,
   "metadata": {},
   "outputs": [
    {
     "name": "stdout",
     "output_type": "stream",
     "text": [
      "Starting flux Bacteroides caccae: 1000.0 Clostridium difficile R20291: 159.67\n",
      "Iteration 1 | 12 contested metabolites | Bacteroides caccae: 1000.0 Clostridium difficile R20291: 149.49\n",
      "Iteration 2 | 6 contested metabolites | Bacteroides caccae: 1000.0 Clostridium difficile R20291: 148.81\n",
      "Iteration 3 | 6 contested metabolites | Bacteroides caccae: 1000.0 Clostridium difficile R20291: 148.25\n",
      "Iteration 4 | 6 contested metabolites | Bacteroides caccae: 1000.0 Clostridium difficile R20291: 148.13\n",
      "Iteration 5 | 5 contested metabolites | Bacteroides caccae: 1000.0 Clostridium difficile R20291: 148.11\n",
      "Ending search after 5 iterations\n"
     ]
    }
   ],
   "source": [
    "Bcaccae_CdR20291_competition = competition(Bcaccae, iCdR703)"
   ]
  },
  {
   "cell_type": "code",
   "execution_count": 26,
   "metadata": {},
   "outputs": [
    {
     "name": "stdout",
     "output_type": "stream",
     "text": [
      "Starting flux Bacteroides ovatus: 915.41 Clostridium difficile R20291: 159.67\n",
      "Iteration 1 | 11 contested metabolites | Bacteroides ovatus: 742.48 Clostridium difficile R20291: 149.49\n",
      "Iteration 2 | 9 contested metabolites | Bacteroides ovatus: 0.0 Clostridium difficile R20291: 144.98\n",
      "Bacteroides ovatus can no longer generate biomass\n"
     ]
    }
   ],
   "source": [
    "Bovatus_CdR20291_competition = competition(Bovatus, iCdR703)"
   ]
  },
  {
   "cell_type": "code",
   "execution_count": 27,
   "metadata": {},
   "outputs": [
    {
     "name": "stdout",
     "output_type": "stream",
     "text": [
      "Starting flux Oscillospiraceae bacterium J115: 983.02 Clostridium difficile R20291: 159.67\n",
      "Iteration 1 | 13 contested metabolites | Oscillospiraceae bacterium J115: 883.97 Clostridium difficile R20291: 149.49\n",
      "Iteration 2 | 9 contested metabolites | Oscillospiraceae bacterium J115: 844.26 Clostridium difficile R20291: 148.81\n",
      "Iteration 3 | 8 contested metabolites | Oscillospiraceae bacterium J115: 834.96 Clostridium difficile R20291: 148.25\n",
      "Iteration 4 | 10 contested metabolites | Oscillospiraceae bacterium J115: 833.06 Clostridium difficile R20291: 125.0\n",
      "Iteration 5 | 9 contested metabolites | Oscillospiraceae bacterium J115: 821.06 Clostridium difficile R20291: 0.0\n",
      "Clostridium difficile R20291 can no longer generate biomass\n"
     ]
    }
   ],
   "source": [
    "Oscillospiraceae_CdR20291_competition = competition(Oscillospiraceae, iCdR703)"
   ]
  },
  {
   "cell_type": "code",
   "execution_count": 28,
   "metadata": {},
   "outputs": [
    {
     "name": "stdout",
     "output_type": "stream",
     "text": [
      "Starting flux Alistipes shahii: 718.57 Clostridium difficile R20291: 159.67\n",
      "Iteration 1 | 13 contested metabolites | Alistipes shahii: 579.76 Clostridium difficile R20291: 149.49\n",
      "Iteration 2 | 13 contested metabolites | Alistipes shahii: 516.91 Clostridium difficile R20291: 144.08\n",
      "Iteration 3 | 12 contested metabolites | Alistipes shahii: 0.0 Clostridium difficile R20291: 0.0\n",
      "Alistipes shahii can no longer generate biomass\n"
     ]
    }
   ],
   "source": [
    "Ashahii_CdR20291_competition = competition(Ashahii, iCdR703)"
   ]
  },
  {
   "cell_type": "code",
   "execution_count": 29,
   "metadata": {},
   "outputs": [
    {
     "name": "stdout",
     "output_type": "stream",
     "text": [
      "Starting flux Bacteroides thetaiotaomicron VPI5482: 1000.0 Clostridium difficile R20291: 159.67\n",
      "Iteration 1 | 11 contested metabolites | Bacteroides thetaiotaomicron VPI5482: 1000.0 Clostridium difficile R20291: 149.49\n",
      "Iteration 2 | 6 contested metabolites | Bacteroides thetaiotaomicron VPI5482: 1000.0 Clostridium difficile R20291: 149.0\n",
      "Iteration 3 | 7 contested metabolites | Bacteroides thetaiotaomicron VPI5482: 1000.0 Clostridium difficile R20291: 148.81\n",
      "Iteration 4 | 6 contested metabolites | Bacteroides thetaiotaomicron VPI5482: 1000.0 Clostridium difficile R20291: 125.0\n",
      "Iteration 5 | 5 contested metabolites | Bacteroides thetaiotaomicron VPI5482: 1000.0 Clostridium difficile R20291: 0.0\n",
      "Clostridium difficile R20291 can no longer generate biomass\n"
     ]
    }
   ],
   "source": [
    "Btheta_CdR20291_competition = competition(Btheta, iCdR703)"
   ]
  },
  {
   "cell_type": "code",
   "execution_count": 33,
   "metadata": {},
   "outputs": [],
   "source": [
    "Rintestinalis_CdR20291_competition.to_csv(mag_genre_dir + 'normal/' + 'Rintestinalis_CdR20291_competition.tsv', sep='\\t')\n",
    "Blongum_CdR20291_competition.to_csv(mag_genre_dir + 'normal/' + 'Blongum_CdR20291_competition.tsv', sep='\\t')\n",
    "Amuciniphila_CdR20291_competition.to_csv(mag_genre_dir + 'normal/' + 'Amuciniphila_CdR20291_competition.tsv', sep='\\t')\n",
    "Bcaccae_CdR20291_competition.to_csv(mag_genre_dir + 'normal/' + 'Bcaccae_CdR20291_competition.tsv', sep='\\t')\n",
    "Bovatus_CdR20291_competition.to_csv(mag_genre_dir + 'normal/' + 'Bovatus_CdR20291_competition.tsv', sep='\\t')\n",
    "Oscillospiraceae_CdR20291_competition.to_csv(mag_genre_dir + 'normal/' + 'Oscillospiraceae_CdR20291_competition.tsv', sep='\\t')\n",
    "Ashahii_CdR20291_competition.to_csv(mag_genre_dir + 'normal/' + 'Ashahii_CdR20291_competition.tsv', sep='\\t')\n",
    "Btheta_CdR20291_competition.to_csv(mag_genre_dir + 'normal/' + 'Btheta_CdR20291_competition.tsv', sep='\\t')"
   ]
  },
  {
   "cell_type": "markdown",
   "metadata": {},
   "source": [
    "### Other"
   ]
  },
  {
   "cell_type": "code",
   "execution_count": 34,
   "metadata": {},
   "outputs": [],
   "source": [
    "# KEGG genes\n",
    "Efaecalis = cobra.io.read_sbml_model(mag_genre_dir + 'other/' + 'iEf535.sbml')\n",
    "Efaecium = cobra.io.read_sbml_model(mag_genre_dir + 'other/' + 'iEf470.sbml')\n",
    "Ecoli = cobra.io.read_sbml_model(mag_genre_dir + 'other/' + 'iEc932.sbml')\n",
    "Bcoagulans = cobra.io.read_sbml_model(mag_genre_dir + 'other/' + 'iBc585.sbml')\n",
    "Sthermophillus = cobra.io.read_sbml_model(mag_genre_dir + 'other/' + 'iSt360.sbml')\n",
    "Caerofaciens = cobra.io.read_sbml_model(mag_genre_dir + 'other/' + 'iCa413.sbml')\n",
    "Cscindens = cobra.io.read_sbml_model(mag_genre_dir + 'other/' + 'iCs548.sbml')"
   ]
  },
  {
   "cell_type": "code",
   "execution_count": 35,
   "metadata": {},
   "outputs": [
    {
     "name": "stdout",
     "output_type": "stream",
     "text": [
      "Starting flux Enterococcus faecalis V583: 605.57 Clostridium difficile R20291: 159.67\n",
      "Iteration 1 | 9 contested metabolites | Enterococcus faecalis V583: 583.27 Clostridium difficile R20291: 149.49\n",
      "Iteration 2 | 9 contested metabolites | Enterococcus faecalis V583: 571.89 Clostridium difficile R20291: 144.98\n",
      "Iteration 3 | 7 contested metabolites | Enterococcus faecalis V583: 570.19 Clostridium difficile R20291: 143.81\n",
      "Iteration 4 | 7 contested metabolites | Enterococcus faecalis V583: 569.84 Clostridium difficile R20291: 143.58\n",
      "Iteration 5 | 7 contested metabolites | Enterococcus faecalis V583: 569.78 Clostridium difficile R20291: 143.53\n",
      "Ending search after 5 iterations\n"
     ]
    }
   ],
   "source": [
    "Efaecalis_CdR20291_competition = competition(Efaecalis, iCdR703)"
   ]
  },
  {
   "cell_type": "code",
   "execution_count": 36,
   "metadata": {},
   "outputs": [
    {
     "name": "stdout",
     "output_type": "stream",
     "text": [
      "Starting flux Enterococcus faecium ATCC8459: 945.26 Clostridium difficile R20291: 159.67\n",
      "Iteration 1 | 11 contested metabolites | Enterococcus faecium ATCC8459: 880.85 Clostridium difficile R20291: 149.49\n",
      "Iteration 2 | 10 contested metabolites | Enterococcus faecium ATCC8459: 849.68 Clostridium difficile R20291: 144.25\n",
      "Iteration 3 | 10 contested metabolites | Enterococcus faecium ATCC8459: 842.21 Clostridium difficile R20291: 0.0\n",
      "Clostridium difficile R20291 can no longer generate biomass\n"
     ]
    }
   ],
   "source": [
    "Efaecium_CdR20291_competition = competition(Efaecium, iCdR703)"
   ]
  },
  {
   "cell_type": "code",
   "execution_count": 37,
   "metadata": {},
   "outputs": [
    {
     "name": "stdout",
     "output_type": "stream",
     "text": [
      "Starting flux Escherichia coli K12: 540.06 Clostridium difficile R20291: 159.67\n",
      "Iteration 1 | 10 contested metabolites | Escherichia coli K12: 540.06 Clostridium difficile R20291: 159.67\n",
      "No additional edges of competition found\n"
     ]
    }
   ],
   "source": [
    "Ecoli_CdR20291_competition = competition(Ecoli, iCdR703)"
   ]
  },
  {
   "cell_type": "code",
   "execution_count": 38,
   "metadata": {},
   "outputs": [
    {
     "name": "stdout",
     "output_type": "stream",
     "text": [
      "Starting flux Bacillus coagulans DSM1: 408.41 Clostridium difficile R20291: 159.67\n",
      "Iteration 1 | 12 contested metabolites | Bacillus coagulans DSM1: 391.02 Clostridium difficile R20291: 149.49\n",
      "Iteration 2 | 11 contested metabolites | Bacillus coagulans DSM1: 377.17 Clostridium difficile R20291: 148.05\n",
      "Iteration 3 | 6 contested metabolites | Bacillus coagulans DSM1: 374.31 Clostridium difficile R20291: 147.98\n",
      "Iteration 4 | 7 contested metabolites | Bacillus coagulans DSM1: 373.45 Clostridium difficile R20291: 125.0\n",
      "Iteration 5 | 7 contested metabolites | Bacillus coagulans DSM1: 365.68 Clostridium difficile R20291: 0.0\n",
      "Clostridium difficile R20291 can no longer generate biomass\n"
     ]
    }
   ],
   "source": [
    "Bcoagulans_CdR20291_competition = competition(Bcoagulans, iCdR703)"
   ]
  },
  {
   "cell_type": "code",
   "execution_count": 39,
   "metadata": {},
   "outputs": [
    {
     "name": "stdout",
     "output_type": "stream",
     "text": [
      "Starting flux Streptococcus thermophillus: 920.28 Clostridium difficile R20291: 159.67\n",
      "Iteration 1 | 12 contested metabolites | Streptococcus thermophillus: 860.97 Clostridium difficile R20291: 149.49\n",
      "Iteration 2 | 10 contested metabolites | Streptococcus thermophillus: 846.01 Clostridium difficile R20291: 149.49\n",
      "Iteration 3 | 10 contested metabolites | Streptococcus thermophillus: 842.66 Clostridium difficile R20291: 0.0\n",
      "Clostridium difficile R20291 can no longer generate biomass\n"
     ]
    }
   ],
   "source": [
    "Sthermophillus_CdR20291_competition = competition(Sthermophillus, iCdR703)"
   ]
  },
  {
   "cell_type": "code",
   "execution_count": 40,
   "metadata": {},
   "outputs": [
    {
     "name": "stdout",
     "output_type": "stream",
     "text": [
      "Starting flux Collinsella aerofaciens: 782.52 Clostridium difficile R20291: 159.67\n",
      "Iteration 1 | 12 contested metabolites | Collinsella aerofaciens: 692.72 Clostridium difficile R20291: 149.49\n",
      "Iteration 2 | 7 contested metabolites | Collinsella aerofaciens: 645.67 Clostridium difficile R20291: 145.63\n",
      "Iteration 3 | 8 contested metabolites | Collinsella aerofaciens: 635.39 Clostridium difficile R20291: 144.86\n",
      "Iteration 4 | 6 contested metabolites | Collinsella aerofaciens: 633.85 Clostridium difficile R20291: 125.0\n",
      "Iteration 5 | 7 contested metabolites | Collinsella aerofaciens: 633.02 Clostridium difficile R20291: 0.0\n",
      "Clostridium difficile R20291 can no longer generate biomass\n"
     ]
    }
   ],
   "source": [
    "Caerofaciens_CdR20291_competition = competition(Caerofaciens, iCdR703)"
   ]
  },
  {
   "cell_type": "code",
   "execution_count": 41,
   "metadata": {},
   "outputs": [
    {
     "name": "stdout",
     "output_type": "stream",
     "text": [
      "Starting flux Clostridium scindens: 370.92 Clostridium difficile R20291: 159.67\n",
      "Iteration 1 | 12 contested metabolites | Clostridium scindens: 365.25 Clostridium difficile R20291: 149.49\n",
      "Iteration 2 | 14 contested metabolites | Clostridium scindens: 350.35 Clostridium difficile R20291: 144.08\n",
      "Iteration 3 | 8 contested metabolites | Clostridium scindens: 340.12 Clostridium difficile R20291: 143.89\n",
      "Iteration 4 | 9 contested metabolites | Clostridium scindens: 334.74 Clostridium difficile R20291: 125.0\n",
      "Iteration 5 | 13 contested metabolites | Clostridium scindens: 331.73 Clostridium difficile R20291: 0.0\n",
      "Clostridium difficile R20291 can no longer generate biomass\n"
     ]
    }
   ],
   "source": [
    "Cscindens_CdR20291_competition = competition(Cscindens, iCdR703)"
   ]
  },
  {
   "cell_type": "code",
   "execution_count": 42,
   "metadata": {},
   "outputs": [],
   "source": [
    "Efaecalis_CdR20291_competition.to_csv(mag_genre_dir + 'other/' + 'Efaecalis_CdR20291_competition.tsv', sep='\\t')\n",
    "Efaecium_CdR20291_competition.to_csv(mag_genre_dir + 'other/' + 'Efaecium_CdR20291_competition.tsv', sep='\\t')\n",
    "Ecoli_CdR20291_competition.to_csv(mag_genre_dir + 'other/' + 'Ecoli_CdR20291_competition.tsv', sep='\\t')\n",
    "Bcoagulans_CdR20291_competition.to_csv(mag_genre_dir + 'other/' + 'Bcoagulans_CdR20291_competition.tsv', sep='\\t')\n",
    "Sthermophillus_CdR20291_competition.to_csv(mag_genre_dir + 'other/' + 'Sthermophillus_CdR20291_competition.tsv', sep='\\t')\n",
    "Caerofaciens_CdR20291_competition.to_csv(mag_genre_dir + 'other/' + 'Caerofaciens_CdR20291_competition.tsv', sep='\\t')\n",
    "Cscindens_CdR20291_competition.to_csv(mag_genre_dir + 'other/' + 'Cscindens_CdR20291_competition.tsv', sep='\\t')"
   ]
  },
  {
   "cell_type": "markdown",
   "metadata": {},
   "source": [
    "## Mutualism"
   ]
  },
  {
   "cell_type": "code",
   "execution_count": 1,
   "metadata": {},
   "outputs": [],
   "source": [
    "from ecology import *"
   ]
  },
  {
   "cell_type": "code",
   "execution_count": 2,
   "metadata": {},
   "outputs": [],
   "source": [
    "iCdR703 = cobra.io.load_json_model('/home/mjenior/Desktop/repos/Jenior_Cdifficile_2019/data/reconstructions/iCdR703.json')\n",
    "mag_genre_dir = '/home/mjenior/Desktop/active_projects/CDI_FMT_project/fmt_metaG/MAG_blast_results/reconstructions/final_genres/'"
   ]
  },
  {
   "cell_type": "markdown",
   "metadata": {},
   "source": [
    "### Super donor-associated"
   ]
  },
  {
   "cell_type": "code",
   "execution_count": 6,
   "metadata": {},
   "outputs": [],
   "source": [
    "# MAGs\n",
    "Erectale = cobra.io.read_sbml_model(mag_genre_dir + 'super/' + 'iEr748.sbml')\n",
    "Afinegoldii = cobra.io.read_sbml_model(mag_genre_dir + 'super/' + 'iAf996.sbml')\n",
    "PspCT06 = cobra.io.read_sbml_model(mag_genre_dir + 'super/' + 'iPs651.sbml')\n",
    "Bvulgatus = cobra.io.read_sbml_model(mag_genre_dir + 'super/' + 'iBv935.sbml')\n",
    "Ahadrus = cobra.io.read_sbml_model(mag_genre_dir + 'super/' + 'iAh540.sbml')\n",
    "Fprausnitzii = cobra.io.read_sbml_model(mag_genre_dir + 'super/' + 'iFp1069.sbml')\n",
    "CspART55 = cobra.io.read_sbml_model(mag_genre_dir + 'super/' + 'iCs454.sbml')\n",
    "Bdorei = cobra.io.read_sbml_model(mag_genre_dir + 'super/' + 'iBd370.sbml')\n",
    "Bpseudocatenulatum = cobra.io.read_sbml_model(mag_genre_dir + 'super/' + 'iBp118.sbml')\n",
    "Osplanchnicus = cobra.io.read_sbml_model(mag_genre_dir + 'super/' + 'iOs707.sbml')\n",
    "Eeligens = cobra.io.read_sbml_model(mag_genre_dir + 'super/' + 'iEe1329.sbml')\n",
    "Pdistasonis = cobra.io.read_sbml_model(mag_genre_dir + 'super/' + 'iPd555.sbml')\n",
    "Dpiger = cobra.io.read_sbml_model(mag_genre_dir + 'super/' + 'iDp397.sbml')\n",
    "\n",
    "# KEGG genes\n",
    "Bproducta = cobra.io.read_sbml_model(mag_genre_dir + 'super/' + 'iBp829.sbml')\n",
    "Csporogenes = cobra.io.read_sbml_model(mag_genre_dir + 'super/' + 'iCs577.sbml')"
   ]
  },
  {
   "cell_type": "code",
   "execution_count": 4,
   "metadata": {},
   "outputs": [
    {
     "name": "stdout",
     "output_type": "stream",
     "text": [
      "Initial growth: Eubacterium rectale = 380.57 | Clostridium difficile R20291 = 69.45\n",
      "Current growth: Eubacterium rectale = 380.57 | Clostridium difficile R20291 = 89.13\n",
      "Current growth: Eubacterium rectale = 380.57 | Clostridium difficile R20291 = 89.28\n",
      "Current growth: Eubacterium rectale = 380.57 | Clostridium difficile R20291 = 89.34\n",
      "Current growth: Eubacterium rectale = 380.57 | Clostridium difficile R20291 = 89.34\n",
      "A total of 39 new metabolites added to media\n",
      "\t 19 metabolites passed from Eubacterium rectale to Clostridium difficile R20291\n",
      "\t 0 metabolites passed from Clostridium difficile R20291 to Eubacterium rectale\n",
      "Optimal Eubacterium rectale objective flux increased by 0.0\n",
      "Optimal Clostridium difficile R20291 objective flux increased by 19.89\n"
     ]
    }
   ],
   "source": [
    "Erectale_CdR20291_mutualism = mutualism(Erectale, iCdR703, expand=False)"
   ]
  },
  {
   "cell_type": "code",
   "execution_count": 5,
   "metadata": {},
   "outputs": [
    {
     "name": "stdout",
     "output_type": "stream",
     "text": [
      "Initial growth: Alistipes finegoldii = 708.88 | Clostridium difficile R20291 = 69.45\n",
      "Current growth: Alistipes finegoldii = 708.88 | Clostridium difficile R20291 = 90.29\n",
      "Current growth: Alistipes finegoldii = 708.88 | Clostridium difficile R20291 = 90.8\n",
      "Current growth: Alistipes finegoldii = 708.88 | Clostridium difficile R20291 = 91.48\n",
      "Current growth: Alistipes finegoldii = 708.88 | Clostridium difficile R20291 = 92.5\n",
      "Current growth: Alistipes finegoldii = 708.88 | Clostridium difficile R20291 = 95.9\n",
      "A total of 42 new metabolites added to media\n",
      "\t 17 metabolites passed from Alistipes finegoldii to Clostridium difficile R20291\n",
      "\t 0 metabolites passed from Clostridium difficile R20291 to Alistipes finegoldii\n",
      "Optimal Alistipes finegoldii objective flux increased by 0.0\n",
      "Optimal Clostridium difficile R20291 objective flux increased by 26.45\n"
     ]
    }
   ],
   "source": [
    "Afinegoldii_CdR20291_mutualism = mutualism(Afinegoldii, iCdR703, expand=False)"
   ]
  },
  {
   "cell_type": "code",
   "execution_count": 6,
   "metadata": {},
   "outputs": [
    {
     "name": "stdout",
     "output_type": "stream",
     "text": [
      "Initial growth: Parabacteroides sp. CT06 = 199.87 | Clostridium difficile R20291 = 69.45\n",
      "Current growth: Parabacteroides sp. CT06 = 199.87 | Clostridium difficile R20291 = 77.32\n",
      "Current growth: Parabacteroides sp. CT06 = 199.87 | Clostridium difficile R20291 = 77.34\n",
      "Current growth: Parabacteroides sp. CT06 = 199.87 | Clostridium difficile R20291 = 77.57\n",
      "Current growth: Parabacteroides sp. CT06 = 199.87 | Clostridium difficile R20291 = 77.64\n",
      "Current growth: Parabacteroides sp. CT06 = 199.87 | Clostridium difficile R20291 = 77.86\n",
      "A total of 26 new metabolites added to media\n",
      "\t 8 metabolites passed from Parabacteroides sp. CT06 to Clostridium difficile R20291\n",
      "\t 0 metabolites passed from Clostridium difficile R20291 to Parabacteroides sp. CT06\n",
      "Optimal Parabacteroides sp. CT06 objective flux increased by 0.0\n",
      "Optimal Clostridium difficile R20291 objective flux increased by 8.4\n"
     ]
    }
   ],
   "source": [
    "PspCT06_CdR20291_mutualism = mutualism(PspCT06, iCdR703, expand=False)"
   ]
  },
  {
   "cell_type": "code",
   "execution_count": 7,
   "metadata": {},
   "outputs": [
    {
     "name": "stdout",
     "output_type": "stream",
     "text": [
      "Initial growth: Bacteroides vulgatus = 358.36 | Clostridium difficile R20291 = 69.45\n",
      "Current growth: Bacteroides vulgatus = 358.36 | Clostridium difficile R20291 = 78.07\n",
      "Current growth: Bacteroides vulgatus = 358.36 | Clostridium difficile R20291 = 78.07\n",
      "Current growth: Bacteroides vulgatus = 358.36 | Clostridium difficile R20291 = 78.07\n",
      "Current growth: Bacteroides vulgatus = 358.36 | Clostridium difficile R20291 = 83.09\n",
      "A total of 28 new metabolites added to media\n",
      "\t 12 metabolites passed from Bacteroides vulgatus to Clostridium difficile R20291\n",
      "\t 0 metabolites passed from Clostridium difficile R20291 to Bacteroides vulgatus\n",
      "Optimal Bacteroides vulgatus objective flux increased by 0.0\n",
      "Optimal Clostridium difficile R20291 objective flux increased by 13.64\n"
     ]
    }
   ],
   "source": [
    "Bvulgatus_CdR20291_mutualism = mutualism(Bvulgatus, iCdR703, expand=False)"
   ]
  },
  {
   "cell_type": "code",
   "execution_count": 8,
   "metadata": {},
   "outputs": [
    {
     "name": "stdout",
     "output_type": "stream",
     "text": [
      "Initial growth: Anaerostipes hadrus = 789.4 | Clostridium difficile R20291 = 69.45\n",
      "Current growth: Anaerostipes hadrus = 789.58 | Clostridium difficile R20291 = 90.58\n",
      "Current growth: Anaerostipes hadrus = 789.58 | Clostridium difficile R20291 = 90.7\n",
      "Current growth: Anaerostipes hadrus = 789.58 | Clostridium difficile R20291 = 93.26\n",
      "Current growth: Anaerostipes hadrus = 789.58 | Clostridium difficile R20291 = 94.43\n",
      "Current growth: Anaerostipes hadrus = 789.58 | Clostridium difficile R20291 = 94.46\n",
      "A total of 41 new metabolites added to media\n",
      "\t 17 metabolites passed from Anaerostipes hadrus to Clostridium difficile R20291\n",
      "\t 0 metabolites passed from Clostridium difficile R20291 to Anaerostipes hadrus\n",
      "Optimal Anaerostipes hadrus objective flux increased by 0.17\n",
      "Optimal Clostridium difficile R20291 objective flux increased by 25.01\n"
     ]
    }
   ],
   "source": [
    "Ahadrus_CdR20291_mutualism = mutualism(Ahadrus, iCdR703, expand=False)"
   ]
  },
  {
   "cell_type": "code",
   "execution_count": 9,
   "metadata": {},
   "outputs": [
    {
     "name": "stdout",
     "output_type": "stream",
     "text": [
      "Initial growth: Faecalibacterium prausnitzii = 589.13 | Clostridium difficile R20291 = 69.45\n",
      "Current growth: Faecalibacterium prausnitzii = 598.08 | Clostridium difficile R20291 = 90.56\n",
      "Current growth: Faecalibacterium prausnitzii = 598.08 | Clostridium difficile R20291 = 95.43\n",
      "Current growth: Faecalibacterium prausnitzii = 598.08 | Clostridium difficile R20291 = 98.99\n",
      "Current growth: Faecalibacterium prausnitzii = 598.08 | Clostridium difficile R20291 = 98.99\n",
      "Current growth: Faecalibacterium prausnitzii = 598.08 | Clostridium difficile R20291 = 98.99\n",
      "A total of 48 new metabolites added to media\n",
      "\t 19 metabolites passed from Faecalibacterium prausnitzii to Clostridium difficile R20291\n",
      "\t 0 metabolites passed from Clostridium difficile R20291 to Faecalibacterium prausnitzii\n",
      "Optimal Faecalibacterium prausnitzii objective flux increased by 8.95\n",
      "Optimal Clostridium difficile R20291 objective flux increased by 29.54\n"
     ]
    }
   ],
   "source": [
    "Fprausnitzii_CdR20291_mutualism = mutualism(Fprausnitzii, iCdR703, expand=False)"
   ]
  },
  {
   "cell_type": "code",
   "execution_count": 10,
   "metadata": {},
   "outputs": [
    {
     "name": "stdout",
     "output_type": "stream",
     "text": [
      "Initial growth: Coprococcus sp. ART55 = 697.31 | Clostridium difficile R20291 = 69.45\n",
      "Current growth: Coprococcus sp. ART55 = 697.31 | Clostridium difficile R20291 = 85.89\n",
      "Current growth: Coprococcus sp. ART55 = 697.31 | Clostridium difficile R20291 = 86.1\n",
      "Current growth: Coprococcus sp. ART55 = 697.31 | Clostridium difficile R20291 = 86.11\n",
      "A total of 40 new metabolites added to media\n",
      "\t 17 metabolites passed from Coprococcus sp. ART55 to Clostridium difficile R20291\n",
      "\t 0 metabolites passed from Clostridium difficile R20291 to Coprococcus sp. ART55\n",
      "Optimal Coprococcus sp. ART55 objective flux increased by 0.0\n",
      "Optimal Clostridium difficile R20291 objective flux increased by 18.2\n"
     ]
    }
   ],
   "source": [
    "CspART55_CdR20291_mutualism = mutualism(CspART55, iCdR703, expand=False)"
   ]
  },
  {
   "cell_type": "code",
   "execution_count": 11,
   "metadata": {},
   "outputs": [
    {
     "name": "stdout",
     "output_type": "stream",
     "text": [
      "Initial growth: Bacteroides dorei = 811.68 | Clostridium difficile R20291 = 69.45\n",
      "Current growth: Bacteroides dorei = 811.68 | Clostridium difficile R20291 = 86.66\n",
      "Current growth: Bacteroides dorei = 811.68 | Clostridium difficile R20291 = 89.72\n",
      "Current growth: Bacteroides dorei = 811.68 | Clostridium difficile R20291 = 94.31\n",
      "Current growth: Bacteroides dorei = 811.68 | Clostridium difficile R20291 = 95.01\n",
      "Current growth: Bacteroides dorei = 811.68 | Clostridium difficile R20291 = 95.28\n",
      "A total of 40 new metabolites added to media\n",
      "\t 15 metabolites passed from Bacteroides dorei to Clostridium difficile R20291\n",
      "\t 0 metabolites passed from Clostridium difficile R20291 to Bacteroides dorei\n",
      "Optimal Bacteroides dorei objective flux increased by 0.0\n",
      "Optimal Clostridium difficile R20291 objective flux increased by 25.83\n"
     ]
    }
   ],
   "source": [
    "Bdorei_CdR20291_mutualism = mutualism(Bdorei, iCdR703, expand=False)"
   ]
  },
  {
   "cell_type": "code",
   "execution_count": 12,
   "metadata": {},
   "outputs": [
    {
     "name": "stdout",
     "output_type": "stream",
     "text": [
      "Initial growth: Bifidobacterium pseudocatenulatum = 919.88 | Clostridium difficile R20291 = 69.45\n",
      "Current growth: Bifidobacterium pseudocatenulatum = 919.88 | Clostridium difficile R20291 = 81.2\n",
      "Current growth: Bifidobacterium pseudocatenulatum = 919.88 | Clostridium difficile R20291 = 81.73\n",
      "Current growth: Bifidobacterium pseudocatenulatum = 919.88 | Clostridium difficile R20291 = 82.78\n",
      "Current growth: Bifidobacterium pseudocatenulatum = 919.88 | Clostridium difficile R20291 = 82.8\n",
      "Current growth: Bifidobacterium pseudocatenulatum = 919.88 | Clostridium difficile R20291 = 82.89\n",
      "A total of 41 new metabolites added to media\n",
      "\t 16 metabolites passed from Bifidobacterium pseudocatenulatum to Clostridium difficile R20291\n",
      "\t 0 metabolites passed from Clostridium difficile R20291 to Bifidobacterium pseudocatenulatum\n",
      "Optimal Bifidobacterium pseudocatenulatum objective flux increased by 0.0\n",
      "Optimal Clostridium difficile R20291 objective flux increased by 13.44\n"
     ]
    }
   ],
   "source": [
    "Bpseudocatenulatum_CdR20291_mutualism = mutualism(Bpseudocatenulatum, iCdR703, expand=False)"
   ]
  },
  {
   "cell_type": "code",
   "execution_count": 13,
   "metadata": {},
   "outputs": [
    {
     "name": "stdout",
     "output_type": "stream",
     "text": [
      "Initial growth: Odoribacter splanchnicus = 485.16 | Clostridium difficile R20291 = 69.45\n",
      "Current growth: Odoribacter splanchnicus = 485.16 | Clostridium difficile R20291 = 79.23\n",
      "Current growth: Odoribacter splanchnicus = 485.16 | Clostridium difficile R20291 = 79.63\n",
      "Current growth: Odoribacter splanchnicus = 485.16 | Clostridium difficile R20291 = 79.63\n",
      "Current growth: Odoribacter splanchnicus = 485.16 | Clostridium difficile R20291 = 80.31\n",
      "Current growth: Odoribacter splanchnicus = 485.16 | Clostridium difficile R20291 = 80.31\n",
      "A total of 34 new metabolites added to media\n",
      "\t 11 metabolites passed from Odoribacter splanchnicus to Clostridium difficile R20291\n",
      "\t 1 metabolites passed from Clostridium difficile R20291 to Odoribacter splanchnicus\n",
      "Optimal Odoribacter splanchnicus objective flux increased by 0.0\n",
      "Optimal Clostridium difficile R20291 objective flux increased by 10.86\n"
     ]
    }
   ],
   "source": [
    "Osplanchnicus_CdR20291_mutualism = mutualism(Osplanchnicus, iCdR703, expand=False)"
   ]
  },
  {
   "cell_type": "code",
   "execution_count": 14,
   "metadata": {},
   "outputs": [
    {
     "name": "stdout",
     "output_type": "stream",
     "text": [
      "Initial growth: Eubacterium eligens = 678.44 | Clostridium difficile R20291 = 69.45\n",
      "Current growth: Eubacterium eligens = 678.44 | Clostridium difficile R20291 = 85.68\n",
      "Current growth: Eubacterium eligens = 678.44 | Clostridium difficile R20291 = 86.2\n",
      "Current growth: Eubacterium eligens = 678.44 | Clostridium difficile R20291 = 89.64\n",
      "Current growth: Eubacterium eligens = 678.44 | Clostridium difficile R20291 = 89.64\n",
      "A total of 45 new metabolites added to media\n",
      "\t 19 metabolites passed from Eubacterium eligens to Clostridium difficile R20291\n",
      "\t 0 metabolites passed from Clostridium difficile R20291 to Eubacterium eligens\n",
      "Optimal Eubacterium eligens objective flux increased by 0.0\n",
      "Optimal Clostridium difficile R20291 objective flux increased by 20.18\n"
     ]
    }
   ],
   "source": [
    "Eeligens_CdR20291_mutualism = mutualism(Eeligens, iCdR703, expand=False)"
   ]
  },
  {
   "cell_type": "code",
   "execution_count": 15,
   "metadata": {},
   "outputs": [
    {
     "name": "stdout",
     "output_type": "stream",
     "text": [
      "Initial growth: Parabacteroides distasonis = 1000.0 | Clostridium difficile R20291 = 69.45\n",
      "Current growth: Parabacteroides distasonis = 1000.0 | Clostridium difficile R20291 = 79.76\n",
      "Current growth: Parabacteroides distasonis = 1000.0 | Clostridium difficile R20291 = 80.9\n",
      "Current growth: Parabacteroides distasonis = 1000.0 | Clostridium difficile R20291 = 81.08\n",
      "Current growth: Parabacteroides distasonis = 1000.0 | Clostridium difficile R20291 = 81.08\n",
      "Current growth: Parabacteroides distasonis = 1000.0 | Clostridium difficile R20291 = 82.79\n",
      "A total of 28 new metabolites added to media\n",
      "\t 9 metabolites passed from Parabacteroides distasonis to Clostridium difficile R20291\n",
      "\t 1 metabolites passed from Clostridium difficile R20291 to Parabacteroides distasonis\n",
      "Optimal Parabacteroides distasonis objective flux increased by 0.0\n",
      "Optimal Clostridium difficile R20291 objective flux increased by 13.34\n"
     ]
    }
   ],
   "source": [
    "Pdistasonis_CdR20291_mutualism = mutualism(Pdistasonis, iCdR703, expand=False)"
   ]
  },
  {
   "cell_type": "code",
   "execution_count": 16,
   "metadata": {},
   "outputs": [
    {
     "name": "stdout",
     "output_type": "stream",
     "text": [
      "Initial growth: Desulfovibrio piger = 378.48 | Clostridium difficile R20291 = 69.45\n",
      "Current growth: Desulfovibrio piger = 378.48 | Clostridium difficile R20291 = 94.57\n",
      "Current growth: Desulfovibrio piger = 378.48 | Clostridium difficile R20291 = 94.75\n",
      "Current growth: Desulfovibrio piger = 378.48 | Clostridium difficile R20291 = 94.75\n",
      "A total of 41 new metabolites added to media\n",
      "\t 15 metabolites passed from Desulfovibrio piger to Clostridium difficile R20291\n",
      "\t 0 metabolites passed from Clostridium difficile R20291 to Desulfovibrio piger\n",
      "Optimal Desulfovibrio piger objective flux increased by 0.0\n",
      "Optimal Clostridium difficile R20291 objective flux increased by 25.3\n"
     ]
    }
   ],
   "source": [
    "Dpiger_CdR20291_mutualism = mutualism(Dpiger, iCdR703, expand=False)"
   ]
  },
  {
   "cell_type": "code",
   "execution_count": 17,
   "metadata": {},
   "outputs": [
    {
     "name": "stdout",
     "output_type": "stream",
     "text": [
      "Initial growth: Blautia producta = 409.12 | Clostridium difficile R20291 = 69.45\n",
      "Current growth: Blautia producta = 409.12 | Clostridium difficile R20291 = 80.04\n",
      "Current growth: Blautia producta = 409.12 | Clostridium difficile R20291 = 86.16\n",
      "Current growth: Blautia producta = 409.12 | Clostridium difficile R20291 = 88.2\n",
      "Current growth: Blautia producta = 409.12 | Clostridium difficile R20291 = 88.25\n",
      "Current growth: Blautia producta = 409.12 | Clostridium difficile R20291 = 88.56\n",
      "A total of 36 new metabolites added to media\n",
      "\t 15 metabolites passed from Blautia producta to Clostridium difficile R20291\n",
      "\t 0 metabolites passed from Clostridium difficile R20291 to Blautia producta\n",
      "Optimal Blautia producta objective flux increased by 0.0\n",
      "Optimal Clostridium difficile R20291 objective flux increased by 19.11\n"
     ]
    }
   ],
   "source": [
    "Bproducta_CdR20291_mutualism = mutualism(Bproducta, iCdR703)"
   ]
  },
  {
   "cell_type": "code",
   "execution_count": 7,
   "metadata": {},
   "outputs": [
    {
     "name": "stdout",
     "output_type": "stream",
     "text": [
      "Initial growth: Clostridium sporogenes = 266.1 | Clostridium difficile R20291 = 69.45\n",
      "Current growth: Clostridium sporogenes = 279.62 | Clostridium difficile R20291 = 96.05\n",
      "Current growth: Clostridium sporogenes = 318.21 | Clostridium difficile R20291 = 96.83\n",
      "Current growth: Clostridium sporogenes = 318.21 | Clostridium difficile R20291 = 98.39\n",
      "Current growth: Clostridium sporogenes = 318.21 | Clostridium difficile R20291 = 98.39\n",
      "A total of 41 new metabolites added to media\n",
      "\t 18 metabolites passed from Clostridium sporogenes to Clostridium difficile R20291\n",
      "\t 16 metabolites passed from Clostridium difficile R20291 to Clostridium sporogenes\n",
      "Optimal Clostridium sporogenes objective flux increased by 52.11\n",
      "Optimal Clostridium difficile R20291 objective flux increased by 28.93\n"
     ]
    }
   ],
   "source": [
    "Csporogenes_CdR20291_mutualism = mutualism(Csporogenes, iCdR703)"
   ]
  },
  {
   "cell_type": "code",
   "execution_count": 18,
   "metadata": {},
   "outputs": [],
   "source": [
    "Erectale_CdR20291_mutualism.to_csv(mag_genre_dir + 'super/' + 'Erectale_CdR20291_mutualism.tsv', sep='\\t')\n",
    "Afinegoldii_CdR20291_mutualism.to_csv(mag_genre_dir + 'super/' + 'Afinegoldii_CdR20291_mutualism.tsv', sep='\\t')\n",
    "PspCT06_CdR20291_mutualism.to_csv(mag_genre_dir + 'super/' + 'PspCT06_CdR20291_mutualism.tsv', sep='\\t')\n",
    "Bvulgatus_CdR20291_mutualism.to_csv(mag_genre_dir + 'super/' + 'Bvulgatus_CdR20291_mutualism.tsv', sep='\\t')\n",
    "Ahadrus_CdR20291_mutualism.to_csv(mag_genre_dir + 'super/' + 'Ahadrus_CdR20291_mutualism.tsv', sep='\\t')\n",
    "Fprausnitzii_CdR20291_mutualism.to_csv(mag_genre_dir + 'super/' + 'Fprausnitzii_CdR20291_mutualism.tsv', sep='\\t')\n",
    "CspART55_CdR20291_mutualism.to_csv(mag_genre_dir + 'super/' + 'CspART55_CdR20291_mutualism.tsv', sep='\\t')\n",
    "Bdorei_CdR20291_mutualism.to_csv(mag_genre_dir + 'super/' + 'Bdorei_CdR20291_mutualism.tsv', sep='\\t')\n",
    "Bpseudocatenulatum_CdR20291_mutualism.to_csv(mag_genre_dir + 'super/' + 'Bpseudocatenulatum_CdR20291_mutualism.tsv', sep='\\t')\n",
    "Osplanchnicus_CdR20291_mutualism.to_csv(mag_genre_dir + 'super/' + 'Osplanchnicus_CdR20291_mutualism.tsv', sep='\\t')\n",
    "Eeligens_CdR20291_mutualism.to_csv(mag_genre_dir + 'super/' + 'Eeligens_CdR20291_mutualism.tsv', sep='\\t')\n",
    "Pdistasonis_CdR20291_mutualism.to_csv(mag_genre_dir + 'super/' + 'Pdistasonis_CdR20291_mutualism.tsv', sep='\\t')\n",
    "Dpiger_CdR20291_mutualism.to_csv(mag_genre_dir + 'super/' + 'Dpiger_CdR20291_mutualism.tsv', sep='\\t')\n",
    "Bproducta_CdR20291_mutualism.to_csv(mag_genre_dir + 'super/' + 'Bproducta_CdR20291_mutualism.tsv', sep='\\t')\n",
    "Csporogenes_CdR20291_mutualism.to_csv(mag_genre_dir + 'super/' + 'Csporogenes_CdR20291_mutualism.tsv', sep='\\t')"
   ]
  },
  {
   "cell_type": "markdown",
   "metadata": {},
   "source": [
    "### Normal donor-associated"
   ]
  },
  {
   "cell_type": "code",
   "execution_count": 10,
   "metadata": {},
   "outputs": [],
   "source": [
    "# MAGs\n",
    "Rintestinalis = cobra.io.read_sbml_model(mag_genre_dir + 'normal/' + 'iRi453.sbml')\n",
    "Blongum = cobra.io.read_sbml_model(mag_genre_dir + 'normal/' + 'iBl287.sbml')\n",
    "Amuciniphila = cobra.io.read_sbml_model(mag_genre_dir + 'normal/' + 'iAm458.sbml')\n",
    "Bcaccae = cobra.io.read_sbml_model(mag_genre_dir + 'normal/' + 'iBc784.sbml')\n",
    "Bovatus = cobra.io.read_sbml_model(mag_genre_dir + 'normal/' + 'iBo679.sbml')\n",
    "Oscillospiraceae = cobra.io.read_sbml_model(mag_genre_dir + 'normal/' + 'iOb1228.sbml')\n",
    "Ashahii = cobra.io.read_sbml_model(mag_genre_dir + 'normal/' + 'iAs395.sbml')\n",
    "\n",
    "# KEGG genes\n",
    "Btheta = cobra.io.read_sbml_model(mag_genre_dir + 'normal/' + 'iBt636.sbml')"
   ]
  },
  {
   "cell_type": "code",
   "execution_count": 20,
   "metadata": {},
   "outputs": [
    {
     "name": "stdout",
     "output_type": "stream",
     "text": [
      "Initial growth: Roseburia intestinalis = 698.27 | Clostridium difficile R20291 = 69.45\n",
      "Current growth: Roseburia intestinalis = 739.68 | Clostridium difficile R20291 = 91.73\n",
      "Current growth: Roseburia intestinalis = 739.68 | Clostridium difficile R20291 = 93.39\n",
      "Current growth: Roseburia intestinalis = 739.68 | Clostridium difficile R20291 = 93.39\n",
      "Current growth: Roseburia intestinalis = 740.34 | Clostridium difficile R20291 = 93.45\n",
      "A total of 47 new metabolites added to media\n",
      "\t 18 metabolites passed from Roseburia intestinalis to Clostridium difficile R20291\n",
      "\t 0 metabolites passed from Clostridium difficile R20291 to Roseburia intestinalis\n",
      "Optimal Roseburia intestinalis objective flux increased by 42.07\n",
      "Optimal Clostridium difficile R20291 objective flux increased by 23.99\n"
     ]
    }
   ],
   "source": [
    "Rintestinalis_CdR20291_mutualism = mutualism(Rintestinalis, iCdR703)"
   ]
  },
  {
   "cell_type": "code",
   "execution_count": 11,
   "metadata": {},
   "outputs": [
    {
     "name": "stdout",
     "output_type": "stream",
     "text": [
      "Initial growth: Bifidobacterium longum = 935.38 | Clostridium difficile R20291 = 69.45\n",
      "Current growth: Bifidobacterium longum = 935.38 | Clostridium difficile R20291 = 82.62\n",
      "Current growth: Bifidobacterium longum = 1000.0 | Clostridium difficile R20291 = 90.25\n",
      "Current growth: Bifidobacterium longum = 1000.0 | Clostridium difficile R20291 = 94.05\n",
      "Current growth: Bifidobacterium longum = 1000.0 | Clostridium difficile R20291 = 94.59\n",
      "Current growth: Bifidobacterium longum = 1000.0 | Clostridium difficile R20291 = 94.76\n",
      "A total of 37 new metabolites added to media\n",
      "\t 14 metabolites passed from Bifidobacterium longum to Clostridium difficile R20291\n",
      "\t 11 metabolites passed from Clostridium difficile R20291 to Bifidobacterium longum\n",
      "Optimal Bifidobacterium longum objective flux increased by 64.62\n",
      "Optimal Clostridium difficile R20291 objective flux increased by 25.31\n"
     ]
    }
   ],
   "source": [
    "Blongum_CdR20291_mutualism = mutualism(Blongum, iCdR703)"
   ]
  },
  {
   "cell_type": "code",
   "execution_count": 22,
   "metadata": {},
   "outputs": [
    {
     "name": "stdout",
     "output_type": "stream",
     "text": [
      "Initial growth: Akkermansia muciniphila = 728.31 | Clostridium difficile R20291 = 69.45\n",
      "Current growth: Akkermansia muciniphila = 728.31 | Clostridium difficile R20291 = 81.05\n",
      "Current growth: Akkermansia muciniphila = 728.31 | Clostridium difficile R20291 = 82.34\n",
      "Current growth: Akkermansia muciniphila = 728.31 | Clostridium difficile R20291 = 82.65\n",
      "Current growth: Akkermansia muciniphila = 728.31 | Clostridium difficile R20291 = 83.66\n",
      "Current growth: Akkermansia muciniphila = 728.31 | Clostridium difficile R20291 = 83.66\n",
      "A total of 39 new metabolites added to media\n",
      "\t 16 metabolites passed from Akkermansia muciniphila to Clostridium difficile R20291\n",
      "\t 0 metabolites passed from Clostridium difficile R20291 to Akkermansia muciniphila\n",
      "Optimal Akkermansia muciniphila objective flux increased by 0.0\n",
      "Optimal Clostridium difficile R20291 objective flux increased by 14.2\n"
     ]
    }
   ],
   "source": [
    "Amuciniphila_CdR20291_mutualism = mutualism(Amuciniphila, iCdR703, expand=False)"
   ]
  },
  {
   "cell_type": "code",
   "execution_count": 23,
   "metadata": {},
   "outputs": [
    {
     "name": "stdout",
     "output_type": "stream",
     "text": [
      "Initial growth: Bacteroides caccae = 965.89 | Clostridium difficile R20291 = 69.45\n",
      "Current growth: Bacteroides caccae = 965.89 | Clostridium difficile R20291 = 87.98\n",
      "Current growth: Bacteroides caccae = 965.89 | Clostridium difficile R20291 = 90.51\n",
      "Current growth: Bacteroides caccae = 965.89 | Clostridium difficile R20291 = 92.81\n",
      "Current growth: Bacteroides caccae = 965.89 | Clostridium difficile R20291 = 95.0\n",
      "Current growth: Bacteroides caccae = 965.89 | Clostridium difficile R20291 = 95.0\n",
      "A total of 38 new metabolites added to media\n",
      "\t 15 metabolites passed from Bacteroides caccae to Clostridium difficile R20291\n",
      "\t 0 metabolites passed from Clostridium difficile R20291 to Bacteroides caccae\n",
      "Optimal Bacteroides caccae objective flux increased by 0.0\n",
      "Optimal Clostridium difficile R20291 objective flux increased by 25.55\n"
     ]
    }
   ],
   "source": [
    "Bcaccae_CdR20291_mutualism = mutualism(Bcaccae, iCdR703, expand=False)"
   ]
  },
  {
   "cell_type": "code",
   "execution_count": 24,
   "metadata": {},
   "outputs": [
    {
     "name": "stdout",
     "output_type": "stream",
     "text": [
      "Initial growth: Bacteroides ovatus = 374.21 | Clostridium difficile R20291 = 69.45\n",
      "Current growth: Bacteroides ovatus = 379.98 | Clostridium difficile R20291 = 82.21\n",
      "Current growth: Bacteroides ovatus = 379.98 | Clostridium difficile R20291 = 85.73\n",
      "Current growth: Bacteroides ovatus = 379.98 | Clostridium difficile R20291 = 92.94\n",
      "Current growth: Bacteroides ovatus = 379.98 | Clostridium difficile R20291 = 92.94\n",
      "Current growth: Bacteroides ovatus = 400.66 | Clostridium difficile R20291 = 94.49\n",
      "A total of 43 new metabolites added to media\n",
      "\t 16 metabolites passed from Bacteroides ovatus to Clostridium difficile R20291\n",
      "\t 1 metabolites passed from Clostridium difficile R20291 to Bacteroides ovatus\n",
      "Optimal Bacteroides ovatus objective flux increased by 26.46\n",
      "Optimal Clostridium difficile R20291 objective flux increased by 25.03\n"
     ]
    }
   ],
   "source": [
    "Bovatus_CdR20291_mutualism = mutualism(Bovatus, iCdR703, expand=False)"
   ]
  },
  {
   "cell_type": "code",
   "execution_count": 25,
   "metadata": {},
   "outputs": [
    {
     "name": "stdout",
     "output_type": "stream",
     "text": [
      "Initial growth: Oscillospiraceae bacterium J115 = 622.89 | Clostridium difficile R20291 = 69.45\n",
      "Current growth: Oscillospiraceae bacterium J115 = 633.29 | Clostridium difficile R20291 = 86.14\n",
      "Current growth: Oscillospiraceae bacterium J115 = 633.29 | Clostridium difficile R20291 = 86.14\n",
      "Current growth: Oscillospiraceae bacterium J115 = 633.29 | Clostridium difficile R20291 = 87.67\n",
      "Current growth: Oscillospiraceae bacterium J115 = 633.29 | Clostridium difficile R20291 = 87.67\n",
      "A total of 38 new metabolites added to media\n",
      "\t 16 metabolites passed from Oscillospiraceae bacterium J115 to Clostridium difficile R20291\n",
      "\t 0 metabolites passed from Clostridium difficile R20291 to Oscillospiraceae bacterium J115\n",
      "Optimal Oscillospiraceae bacterium J115 objective flux increased by 10.41\n",
      "Optimal Clostridium difficile R20291 objective flux increased by 18.41\n"
     ]
    }
   ],
   "source": [
    "Oscillospiraceae_CdR20291_mutualism = mutualism(Oscillospiraceae, iCdR703, expand=False)"
   ]
  },
  {
   "cell_type": "code",
   "execution_count": 26,
   "metadata": {},
   "outputs": [
    {
     "name": "stdout",
     "output_type": "stream",
     "text": [
      "Initial growth: Alistipes shahii = 418.29 | Clostridium difficile R20291 = 69.45\n",
      "Current growth: Alistipes shahii = 418.29 | Clostridium difficile R20291 = 70.96\n",
      "Current growth: Alistipes shahii = 418.29 | Clostridium difficile R20291 = 70.96\n",
      "Current growth: Alistipes shahii = 418.29 | Clostridium difficile R20291 = 70.96\n",
      "Current growth: Alistipes shahii = 418.29 | Clostridium difficile R20291 = 76.79\n",
      "Current growth: Alistipes shahii = 418.29 | Clostridium difficile R20291 = 78.51\n",
      "A total of 31 new metabolites added to media\n",
      "\t 10 metabolites passed from Alistipes shahii to Clostridium difficile R20291\n",
      "\t 0 metabolites passed from Clostridium difficile R20291 to Alistipes shahii\n",
      "Optimal Alistipes shahii objective flux increased by 0.0\n",
      "Optimal Clostridium difficile R20291 objective flux increased by 9.06\n"
     ]
    }
   ],
   "source": [
    "Ashahii_CdR20291_mutualism = mutualism(Ashahii, iCdR703, expand=False)"
   ]
  },
  {
   "cell_type": "code",
   "execution_count": 27,
   "metadata": {},
   "outputs": [
    {
     "name": "stdout",
     "output_type": "stream",
     "text": [
      "Initial growth: Bacteroides thetaiotaomicron VPI5482 = 1000.0 | Clostridium difficile R20291 = 69.45\n",
      "Current growth: Bacteroides thetaiotaomicron VPI5482 = 1000.0 | Clostridium difficile R20291 = 93.33\n",
      "Current growth: Bacteroides thetaiotaomicron VPI5482 = 1000.0 | Clostridium difficile R20291 = 93.33\n",
      "Current growth: Bacteroides thetaiotaomicron VPI5482 = 1000.0 | Clostridium difficile R20291 = 100.84\n",
      "Current growth: Bacteroides thetaiotaomicron VPI5482 = 1000.0 | Clostridium difficile R20291 = 100.84\n",
      "Current growth: Bacteroides thetaiotaomicron VPI5482 = 1000.0 | Clostridium difficile R20291 = 100.84\n",
      "A total of 43 new metabolites added to media\n",
      "\t 17 metabolites passed from Bacteroides thetaiotaomicron VPI5482 to Clostridium difficile R20291\n",
      "\t 0 metabolites passed from Clostridium difficile R20291 to Bacteroides thetaiotaomicron VPI5482\n",
      "Optimal Bacteroides thetaiotaomicron VPI5482 objective flux increased by 0.0\n",
      "Optimal Clostridium difficile R20291 objective flux increased by 31.39\n"
     ]
    }
   ],
   "source": [
    "Btheta_CdR20291_mutualism = mutualism(Btheta, iCdR703, expand=False)"
   ]
  },
  {
   "cell_type": "code",
   "execution_count": 28,
   "metadata": {},
   "outputs": [],
   "source": [
    "Rintestinalis_CdR20291_mutualism.to_csv(mag_genre_dir + 'normal/' + 'Rintestinalis_CdR20291_mutualism.tsv', sep='\\t')\n",
    "Blongum_CdR20291_mutualism.to_csv(mag_genre_dir + 'normal/' + 'Blongum_CdR20291_mutualism.tsv', sep='\\t')\n",
    "Amuciniphila_CdR20291_mutualism.to_csv(mag_genre_dir + 'normal/' + 'Amuciniphila_CdR20291_mutualism.tsv', sep='\\t')\n",
    "Bcaccae_CdR20291_mutualism.to_csv(mag_genre_dir + 'normal/' + 'Bcaccae_CdR20291_mutualism.tsv', sep='\\t')\n",
    "Bovatus_CdR20291_mutualism.to_csv(mag_genre_dir + 'normal/' + 'Bovatus_CdR20291_mutualism.tsv', sep='\\t')\n",
    "Oscillospiraceae_CdR20291_mutualism.to_csv(mag_genre_dir + 'normal/' + 'Oscillospiraceae_CdR20291_mutualism.tsv', sep='\\t')\n",
    "Ashahii_CdR20291_mutualism.to_csv(mag_genre_dir + 'normal/' + 'Ashahii_CdR20291_mutualism.tsv', sep='\\t')\n",
    "Btheta_CdR20291_mutualism.to_csv(mag_genre_dir + 'normal/' + 'Btheta_CdR20291_mutualism.tsv', sep='\\t')"
   ]
  },
  {
   "cell_type": "markdown",
   "metadata": {},
   "source": [
    "### Other"
   ]
  },
  {
   "cell_type": "code",
   "execution_count": 29,
   "metadata": {},
   "outputs": [],
   "source": [
    "# KEGG genes\n",
    "Efaecalis = cobra.io.read_sbml_model(mag_genre_dir + 'other/' + 'iEf535.sbml')\n",
    "Efaecium = cobra.io.read_sbml_model(mag_genre_dir + 'other/' + 'iEf470.sbml')\n",
    "Ecoli = cobra.io.read_sbml_model(mag_genre_dir + 'other/' + 'iEc932.sbml')\n",
    "Bcoagulans = cobra.io.read_sbml_model(mag_genre_dir + 'other/' + 'iBc585.sbml')\n",
    "Sthermophillus = cobra.io.read_sbml_model(mag_genre_dir + 'other/' + 'iSt360.sbml')\n",
    "Caerofaciens = cobra.io.read_sbml_model(mag_genre_dir + 'other/' + 'iCa413.sbml')\n",
    "Cscindens = cobra.io.read_sbml_model(mag_genre_dir + 'other/' + 'iCs548.sbml')"
   ]
  },
  {
   "cell_type": "code",
   "execution_count": 30,
   "metadata": {},
   "outputs": [
    {
     "name": "stdout",
     "output_type": "stream",
     "text": [
      "Initial growth: Enterococcus faecalis V583 = 449.6 | Clostridium difficile R20291 = 69.45\n",
      "Current growth: Enterococcus faecalis V583 = 449.8 | Clostridium difficile R20291 = 92.87\n",
      "Current growth: Enterococcus faecalis V583 = 449.8 | Clostridium difficile R20291 = 98.95\n",
      "A total of 39 new metabolites added to media\n",
      "\t 18 metabolites passed from Enterococcus faecalis V583 to Clostridium difficile R20291\n",
      "\t 0 metabolites passed from Clostridium difficile R20291 to Enterococcus faecalis V583\n",
      "Optimal Enterococcus faecalis V583 objective flux increased by 0.2\n",
      "Optimal Clostridium difficile R20291 objective flux increased by 29.49\n"
     ]
    }
   ],
   "source": [
    "Efaecalis_CdR20291_mutualism = mutualism(Efaecalis, iCdR703, expand=False)"
   ]
  },
  {
   "cell_type": "code",
   "execution_count": 31,
   "metadata": {},
   "outputs": [
    {
     "name": "stdout",
     "output_type": "stream",
     "text": [
      "Initial growth: Enterococcus faecium ATCC8459 = 584.99 | Clostridium difficile R20291 = 69.45\n",
      "Current growth: Enterococcus faecium ATCC8459 = 633.95 | Clostridium difficile R20291 = 97.07\n",
      "Current growth: Enterococcus faecium ATCC8459 = 633.95 | Clostridium difficile R20291 = 101.72\n",
      "Current growth: Enterococcus faecium ATCC8459 = 633.95 | Clostridium difficile R20291 = 101.72\n",
      "A total of 40 new metabolites added to media\n",
      "\t 17 metabolites passed from Enterococcus faecium ATCC8459 to Clostridium difficile R20291\n",
      "\t 0 metabolites passed from Clostridium difficile R20291 to Enterococcus faecium ATCC8459\n",
      "Optimal Enterococcus faecium ATCC8459 objective flux increased by 48.96\n",
      "Optimal Clostridium difficile R20291 objective flux increased by 34.49\n"
     ]
    }
   ],
   "source": [
    "Efaecium_CdR20291_mutualism = mutualism(Efaecium, iCdR703, expand=False)"
   ]
  },
  {
   "cell_type": "code",
   "execution_count": 32,
   "metadata": {},
   "outputs": [
    {
     "name": "stdout",
     "output_type": "stream",
     "text": [
      "Initial growth: Escherichia coli K12 = 357.57 | Clostridium difficile R20291 = 69.45\n",
      "Current growth: Escherichia coli K12 = 357.57 | Clostridium difficile R20291 = 73.22\n",
      "Current growth: Escherichia coli K12 = 357.57 | Clostridium difficile R20291 = 74.66\n",
      "Current growth: Escherichia coli K12 = 357.57 | Clostridium difficile R20291 = 74.66\n",
      "Current growth: Escherichia coli K12 = 357.57 | Clostridium difficile R20291 = 74.68\n",
      "Current growth: Escherichia coli K12 = 357.57 | Clostridium difficile R20291 = 76.08\n",
      "A total of 30 new metabolites added to media\n",
      "\t 12 metabolites passed from Escherichia coli K12 to Clostridium difficile R20291\n",
      "\t 0 metabolites passed from Clostridium difficile R20291 to Escherichia coli K12\n",
      "Optimal Escherichia coli K12 objective flux increased by 0.0\n",
      "Optimal Clostridium difficile R20291 objective flux increased by 6.63\n"
     ]
    }
   ],
   "source": [
    "Ecoli_CdR20291_mutualism = mutualism(Ecoli, iCdR703, expand=False)"
   ]
  },
  {
   "cell_type": "code",
   "execution_count": 33,
   "metadata": {},
   "outputs": [
    {
     "name": "stdout",
     "output_type": "stream",
     "text": [
      "Initial growth: Bacillus coagulans DSM1 = 342.91 | Clostridium difficile R20291 = 69.45\n",
      "Current growth: Bacillus coagulans DSM1 = 345.13 | Clostridium difficile R20291 = 84.89\n",
      "Current growth: Bacillus coagulans DSM1 = 345.13 | Clostridium difficile R20291 = 88.48\n",
      "Current growth: Bacillus coagulans DSM1 = 345.13 | Clostridium difficile R20291 = 88.48\n",
      "Current growth: Bacillus coagulans DSM1 = 345.13 | Clostridium difficile R20291 = 88.48\n",
      "Current growth: Bacillus coagulans DSM1 = 345.13 | Clostridium difficile R20291 = 88.48\n",
      "A total of 39 new metabolites added to media\n",
      "\t 15 metabolites passed from Bacillus coagulans DSM1 to Clostridium difficile R20291\n",
      "\t 0 metabolites passed from Clostridium difficile R20291 to Bacillus coagulans DSM1\n",
      "Optimal Bacillus coagulans DSM1 objective flux increased by 2.23\n",
      "Optimal Clostridium difficile R20291 objective flux increased by 19.03\n"
     ]
    }
   ],
   "source": [
    "Bcoagulans_CdR20291_mutualism = mutualism(Bcoagulans, iCdR703, expand=False)"
   ]
  },
  {
   "cell_type": "code",
   "execution_count": 34,
   "metadata": {},
   "outputs": [
    {
     "name": "stdout",
     "output_type": "stream",
     "text": [
      "Initial growth: Streptococcus thermophillus = 778.06 | Clostridium difficile R20291 = 69.45\n",
      "Current growth: Streptococcus thermophillus = 778.06 | Clostridium difficile R20291 = 88.2\n",
      "Current growth: Streptococcus thermophillus = 778.06 | Clostridium difficile R20291 = 93.33\n",
      "Current growth: Streptococcus thermophillus = 778.06 | Clostridium difficile R20291 = 93.33\n",
      "Current growth: Streptococcus thermophillus = 778.06 | Clostridium difficile R20291 = 93.86\n",
      "Current growth: Streptococcus thermophillus = 778.06 | Clostridium difficile R20291 = 94.9\n",
      "A total of 41 new metabolites added to media\n",
      "\t 18 metabolites passed from Streptococcus thermophillus to Clostridium difficile R20291\n",
      "\t 0 metabolites passed from Clostridium difficile R20291 to Streptococcus thermophillus\n",
      "Optimal Streptococcus thermophillus objective flux increased by 0.0\n",
      "Optimal Clostridium difficile R20291 objective flux increased by 25.45\n"
     ]
    }
   ],
   "source": [
    "Sthermophillus_CdR20291_mutualism = mutualism(Sthermophillus, iCdR703, expand=False)"
   ]
  },
  {
   "cell_type": "code",
   "execution_count": 35,
   "metadata": {},
   "outputs": [
    {
     "name": "stdout",
     "output_type": "stream",
     "text": [
      "Initial growth: Collinsella aerofaciens = 446.7 | Clostridium difficile R20291 = 69.45\n",
      "Current growth: Collinsella aerofaciens = 446.7 | Clostridium difficile R20291 = 82.45\n",
      "Current growth: Collinsella aerofaciens = 446.7 | Clostridium difficile R20291 = 82.45\n",
      "Current growth: Collinsella aerofaciens = 446.7 | Clostridium difficile R20291 = 82.45\n",
      "Current growth: Collinsella aerofaciens = 446.7 | Clostridium difficile R20291 = 82.45\n",
      "A total of 39 new metabolites added to media\n",
      "\t 13 metabolites passed from Collinsella aerofaciens to Clostridium difficile R20291\n",
      "\t 0 metabolites passed from Clostridium difficile R20291 to Collinsella aerofaciens\n",
      "Optimal Collinsella aerofaciens objective flux increased by 0.0\n",
      "Optimal Clostridium difficile R20291 objective flux increased by 13.13\n"
     ]
    }
   ],
   "source": [
    "Caerofaciens_CdR20291_mutualism = mutualism(Caerofaciens, iCdR703, expand=False)"
   ]
  },
  {
   "cell_type": "code",
   "execution_count": 36,
   "metadata": {},
   "outputs": [
    {
     "name": "stdout",
     "output_type": "stream",
     "text": [
      "Initial growth: Clostridium scindens = 283.97 | Clostridium difficile R20291 = 69.45\n",
      "Current growth: Clostridium scindens = 293.22 | Clostridium difficile R20291 = 83.95\n",
      "Current growth: Clostridium scindens = 293.22 | Clostridium difficile R20291 = 84.18\n",
      "Current growth: Clostridium scindens = 293.22 | Clostridium difficile R20291 = 84.52\n",
      "Current growth: Clostridium scindens = 293.22 | Clostridium difficile R20291 = 84.52\n",
      "A total of 36 new metabolites added to media\n",
      "\t 15 metabolites passed from Clostridium scindens to Clostridium difficile R20291\n",
      "\t 1 metabolites passed from Clostridium difficile R20291 to Clostridium scindens\n",
      "Optimal Clostridium scindens objective flux increased by 9.25\n",
      "Optimal Clostridium difficile R20291 objective flux increased by 15.06\n"
     ]
    }
   ],
   "source": [
    "Cscindens_CdR20291_mutualism = mutualism(Cscindens, iCdR703, expand=False)"
   ]
  },
  {
   "cell_type": "code",
   "execution_count": 37,
   "metadata": {},
   "outputs": [],
   "source": [
    "Efaecalis_CdR20291_mutualism.to_csv(mag_genre_dir + 'other/' + 'Efaecalis_CdR20291_mutualism.tsv', sep='\\t')\n",
    "Efaecium_CdR20291_mutualism.to_csv(mag_genre_dir + 'other/' + 'Efaecium_CdR20291_mutualism.tsv', sep='\\t')\n",
    "Ecoli_CdR20291_mutualism.to_csv(mag_genre_dir + 'other/' + 'Ecoli_CdR20291_mutualism.tsv', sep='\\t')\n",
    "Bcoagulans_CdR20291_mutualism.to_csv(mag_genre_dir + 'other/' + 'Bcoagulans_CdR20291_mutualism.tsv', sep='\\t')\n",
    "Sthermophillus_CdR20291_mutualism.to_csv(mag_genre_dir + 'other/' + 'Sthermophillus_CdR20291_mutualism.tsv', sep='\\t')\n",
    "Caerofaciens_CdR20291_mutualism.to_csv(mag_genre_dir + 'other/' + 'Caerofaciens_CdR20291_mutualism.tsv', sep='\\t')\n",
    "Cscindens_CdR20291_mutualism.to_csv(mag_genre_dir + 'other/' + 'Cscindens_CdR20291_mutualism.tsv', sep='\\t')"
   ]
  },
  {
   "cell_type": "code",
   "execution_count": null,
   "metadata": {},
   "outputs": [],
   "source": []
  },
  {
   "cell_type": "code",
   "execution_count": null,
   "metadata": {},
   "outputs": [],
   "source": []
  }
 ],
 "metadata": {
  "kernelspec": {
   "display_name": "Python 3",
   "language": "python",
   "name": "python3"
  },
  "language_info": {
   "codemirror_mode": {
    "name": "ipython",
    "version": 3
   },
   "file_extension": ".py",
   "mimetype": "text/x-python",
   "name": "python",
   "nbconvert_exporter": "python",
   "pygments_lexer": "ipython3",
   "version": "3.8.8"
  }
 },
 "nbformat": 4,
 "nbformat_minor": 4
}
